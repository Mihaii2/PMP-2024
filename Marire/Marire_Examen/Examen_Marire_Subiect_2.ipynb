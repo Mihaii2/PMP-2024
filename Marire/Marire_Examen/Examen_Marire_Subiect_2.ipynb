{
 "cells": [
  {
   "metadata": {
    "ExecuteTime": {
     "end_time": "2025-02-18T09:55:15.326845Z",
     "start_time": "2025-02-18T09:55:15.321115Z"
    }
   },
   "cell_type": "code",
   "source": [
    "import numpy as np\n",
    "import pandas as pd\n",
    "import pymc as pm\n",
    "import arviz as az\n",
    "import matplotlib.pyplot as plt\n",
    "from scipy import stats\n",
    "\n"
   ],
   "id": "1f26470adf8fe627",
   "outputs": [],
   "execution_count": 30
  },
  {
   "metadata": {
    "collapsed": true,
    "ExecuteTime": {
     "end_time": "2025-02-18T09:55:15.342869Z",
     "start_time": "2025-02-18T09:55:15.333641Z"
    }
   },
   "cell_type": "code",
   "source": [
    "# Presupunem că fișierul 'greutati.csv' conține o coloană 'weight' cu valorile greutăților peștilor\n",
    "# Ajustează numele fișierului și coloana la structura ta reală de date\n",
    "\n",
    "print(\"Loading data from 'greutati.csv'...\")\n",
    "df = pd.read_csv('greutati.csv')\n",
    "weights = df['Greutate_pește'].values  # vector numpy de greutăți\n",
    "print(f\"Loaded {len(weights)} data points.\")\n"
   ],
   "id": "initial_id",
   "outputs": [
    {
     "name": "stdout",
     "output_type": "stream",
     "text": [
      "Loading data from 'greutati.csv'...\n",
      "Loaded 200 data points.\n"
     ]
    }
   ],
   "execution_count": 31
  },
  {
   "metadata": {
    "ExecuteTime": {
     "end_time": "2025-02-18T09:55:15.451232Z",
     "start_time": "2025-02-18T09:55:15.359746Z"
    }
   },
   "cell_type": "code",
   "source": [
    "plt.figure(figsize=(8,5))\n",
    "plt.hist(weights, bins=20, density=True, alpha=0.6, color='blue', edgecolor='black')\n",
    "plt.xlabel('Weight')\n",
    "plt.ylabel('Density')\n",
    "plt.title('Histogram of Fish Weights')\n",
    "plt.grid(True)\n",
    "plt.show()\n"
   ],
   "id": "73d1b88c8a7dfd59",
   "outputs": [
    {
     "data": {
      "text/plain": [
       "<Figure size 800x500 with 1 Axes>"
      ],
      "image/png": "[encoded data removed]"
     },
     "metadata": {},
     "output_type": "display_data"
    }
   ],
   "execution_count": 32
  },
  {
   "metadata": {
    "ExecuteTime": {
     "end_time": "2025-02-18T09:55:15.481837Z",
     "start_time": "2025-02-18T09:55:15.468241Z"
    }
   },
   "cell_type": "code",
   "source": [
    "def create_and_sample_mixture_model(K, data):\n",
    "    \"\"\"\n",
    "    Creează un mixture model normal cu K subpopulații\n",
    "    și rulează un sample MCMC foarte scurt (test).\n",
    "    Returnează InferenceData (trace) și obiectul modelului.\n",
    "    \"\"\"\n",
    "    print(f\"\\n=== Building Mixture Model with K={K} ===\")\n",
    "\n",
    "    with pm.Model() as model:\n",
    "        # Prior pentru ponderi (Dirichlet)\n",
    "        w = pm.Dirichlet('w', a=np.ones(K), shape=K)\n",
    "\n",
    "        # Prior pentru medii (Normal)\n",
    "        mu = pm.Normal('mu', mu=0, sigma=10, shape=K)\n",
    "\n",
    "        # Prior pentru deviații standard (HalfNormal)\n",
    "        sigma = pm.HalfNormal('sigma', sigma=10, shape=K)\n",
    "\n",
    "        # Folosim pm.NormalMixture care e mai nou in PyMC\n",
    "        # Observăm datele 'data' prin acest mixture\n",
    "        y_obs = pm.NormalMixture(\n",
    "            'y_obs',\n",
    "            w=w,\n",
    "            mu=mu,\n",
    "            sigma=sigma,\n",
    "            observed=data\n",
    "        )\n",
    "\n",
    "        # Sampling foarte scurt, doar pentru a testa că merge\n",
    "        # În aplicații reale, tune și draws mai mari!\n",
    "        print(f\"Sampling for K={K} ... (short run)\")\n",
    "        trace = pm.sample(\n",
    "            draws=2,         # FOARTE mic, doar să vedem că rulează\n",
    "            tune=1,          # FOARTE mic, doar să vedem că rulează\n",
    "            chains=2,         # numărul de lanțuri\n",
    "            target_accept=0.8,\n",
    "            return_inferencedata=True,\n",
    "            idata_kwargs={\"log_likelihood\": True}  # necesar pentru compare\n",
    "        )\n",
    "\n",
    "    return trace, model\n"
   ],
   "id": "e30bb7f8b5e57746",
   "outputs": [],
   "execution_count": 33
  },
  {
   "metadata": {
    "ExecuteTime": {
     "end_time": "2025-02-18T09:55:37.538881Z",
     "start_time": "2025-02-18T09:55:15.498261Z"
    }
   },
   "cell_type": "code",
   "source": [
    "models_traces = {}\n",
    "models_objs = {}\n",
    "\n",
    "for k in [3, 4, 5]:\n",
    "    idata, model = create_and_sample_mixture_model(k, weights)\n",
    "    models_traces[f\"K={k}\"] = idata\n",
    "    models_objs[f\"K={k}\"] = model\n"
   ],
   "id": "547b961810424271",
   "outputs": [
    {
     "name": "stdout",
     "output_type": "stream",
     "text": [
      "\n",
      "=== Building Mixture Model with K=3 ===\n"
     ]
    },
    {
     "name": "stderr",
     "output_type": "stream",
     "text": [
      "Only 2 samples in chain.\n"
     ]
    },
    {
     "name": "stdout",
     "output_type": "stream",
     "text": [
      "Sampling for K=3 ... (short run)\n"
     ]
    },
    {
     "name": "stderr",
     "output_type": "stream",
     "text": [
      "Auto-assigning NUTS sampler...\n",
      "Initializing NUTS using jitter+adapt_diag...\n",
      "Multiprocess sampling (2 chains in 4 jobs)\n",
      "NUTS: [w, mu, sigma]\n"
     ]
    },
    {
     "data": {
      "text/plain": [
       "<IPython.core.display.HTML object>"
      ],
      "text/html": [
       "\n",
       "<style>\n",
       "    /* Turns off some styling */\n",
       "    progress {\n",
       "        /* gets rid of default border in Firefox and Opera. */\n",
       "        border: none;\n",
       "        /* Needs to be in here for Safari polyfill so background images work as expected. */\n",
       "        background-size: auto;\n",
       "    }\n",
       "    progress:not([value]), progress:not([value])::-webkit-progress-bar {\n",
       "        background: repeating-linear-gradient(45deg, #7e7e7e, #7e7e7e 10px, #5c5c5c 10px, #5c5c5c 20px);\n",
       "    }\n",
       "    .progress-bar-interrupted, .progress-bar-interrupted::-webkit-progress-bar {\n",
       "        background: #F44336;\n",
       "    }\n",
       "</style>\n"
      ]
     },
     "metadata": {},
     "output_type": "display_data"
    },
    {
     "data": {
      "text/plain": [
       "<IPython.core.display.HTML object>"
      ],
      "text/html": [
       "\n",
       "    <div>\n",
       "      <progress value='6' class='' max='6' style='width:300px; height:20px; vertical-align: middle;'></progress>\n",
       "      100.00% [6/6 00:00&lt;00:00 Sampling 2 chains, 4 divergences]\n",
       "    </div>\n",
       "    "
      ]
     },
     "metadata": {},
     "output_type": "display_data"
    },
    {
     "name": "stderr",
     "output_type": "stream",
     "text": [
      "Sampling 2 chains for 1 tune and 2 draw iterations (2 + 4 draws total) took 4 seconds.\n",
      "The chain contains only diverging samples. The model is probably misspecified.\n",
      "The acceptance probability does not match the target. It is 0, but should be close to 0.8. Try to increase the number of tuning steps.\n",
      "The chain contains only diverging samples. The model is probably misspecified.\n",
      "The acceptance probability does not match the target. It is 0, but should be close to 0.8. Try to increase the number of tuning steps.\n",
      "C:\\Users\\Victus\\AppData\\Local\\Temp\\ipykernel_14580\\1590152408.py:32: UserWarning: The number of samples is too small to check convergence reliably.\n",
      "  trace = pm.sample(\n",
      "Only 2 samples in chain.\n"
     ]
    },
    {
     "name": "stdout",
     "output_type": "stream",
     "text": [
      "\n",
      "=== Building Mixture Model with K=4 ===\n",
      "Sampling for K=4 ... (short run)\n"
     ]
    },
    {
     "name": "stderr",
     "output_type": "stream",
     "text": [
      "Auto-assigning NUTS sampler...\n",
      "Initializing NUTS using jitter+adapt_diag...\n",
      "Multiprocess sampling (2 chains in 4 jobs)\n",
      "NUTS: [w, mu, sigma]\n"
     ]
    },
    {
     "data": {
      "text/plain": [
       "<IPython.core.display.HTML object>"
      ],
      "text/html": [
       "\n",
       "<style>\n",
       "    /* Turns off some styling */\n",
       "    progress {\n",
       "        /* gets rid of default border in Firefox and Opera. */\n",
       "        border: none;\n",
       "        /* Needs to be in here for Safari polyfill so background images work as expected. */\n",
       "        background-size: auto;\n",
       "    }\n",
       "    progress:not([value]), progress:not([value])::-webkit-progress-bar {\n",
       "        background: repeating-linear-gradient(45deg, #7e7e7e, #7e7e7e 10px, #5c5c5c 10px, #5c5c5c 20px);\n",
       "    }\n",
       "    .progress-bar-interrupted, .progress-bar-interrupted::-webkit-progress-bar {\n",
       "        background: #F44336;\n",
       "    }\n",
       "</style>\n"
      ]
     },
     "metadata": {},
     "output_type": "display_data"
    },
    {
     "data": {
      "text/plain": [
       "<IPython.core.display.HTML object>"
      ],
      "text/html": [
       "\n",
       "    <div>\n",
       "      <progress value='6' class='' max='6' style='width:300px; height:20px; vertical-align: middle;'></progress>\n",
       "      100.00% [6/6 00:00&lt;00:00 Sampling 2 chains, 4 divergences]\n",
       "    </div>\n",
       "    "
      ]
     },
     "metadata": {},
     "output_type": "display_data"
    },
    {
     "name": "stderr",
     "output_type": "stream",
     "text": [
      "Sampling 2 chains for 1 tune and 2 draw iterations (2 + 4 draws total) took 4 seconds.\n",
      "The chain contains only diverging samples. The model is probably misspecified.\n",
      "The acceptance probability does not match the target. It is 0, but should be close to 0.8. Try to increase the number of tuning steps.\n",
      "The chain contains only diverging samples. The model is probably misspecified.\n",
      "The acceptance probability does not match the target. It is 0, but should be close to 0.8. Try to increase the number of tuning steps.\n",
      "Only 2 samples in chain.\n"
     ]
    },
    {
     "name": "stdout",
     "output_type": "stream",
     "text": [
      "\n",
      "=== Building Mixture Model with K=5 ===\n",
      "Sampling for K=5 ... (short run)\n"
     ]
    },
    {
     "name": "stderr",
     "output_type": "stream",
     "text": [
      "Auto-assigning NUTS sampler...\n",
      "Initializing NUTS using jitter+adapt_diag...\n",
      "Multiprocess sampling (2 chains in 4 jobs)\n",
      "NUTS: [w, mu, sigma]\n"
     ]
    },
    {
     "data": {
      "text/plain": [
       "<IPython.core.display.HTML object>"
      ],
      "text/html": [
       "\n",
       "<style>\n",
       "    /* Turns off some styling */\n",
       "    progress {\n",
       "        /* gets rid of default border in Firefox and Opera. */\n",
       "        border: none;\n",
       "        /* Needs to be in here for Safari polyfill so background images work as expected. */\n",
       "        background-size: auto;\n",
       "    }\n",
       "    progress:not([value]), progress:not([value])::-webkit-progress-bar {\n",
       "        background: repeating-linear-gradient(45deg, #7e7e7e, #7e7e7e 10px, #5c5c5c 10px, #5c5c5c 20px);\n",
       "    }\n",
       "    .progress-bar-interrupted, .progress-bar-interrupted::-webkit-progress-bar {\n",
       "        background: #F44336;\n",
       "    }\n",
       "</style>\n"
      ]
     },
     "metadata": {},
     "output_type": "display_data"
    },
    {
     "data": {
      "text/plain": [
       "<IPython.core.display.HTML object>"
      ],
      "text/html": [
       "\n",
       "    <div>\n",
       "      <progress value='6' class='' max='6' style='width:300px; height:20px; vertical-align: middle;'></progress>\n",
       "      100.00% [6/6 00:00&lt;00:00 Sampling 2 chains, 4 divergences]\n",
       "    </div>\n",
       "    "
      ]
     },
     "metadata": {},
     "output_type": "display_data"
    },
    {
     "name": "stderr",
     "output_type": "stream",
     "text": [
      "Sampling 2 chains for 1 tune and 2 draw iterations (2 + 4 draws total) took 4 seconds.\n",
      "The chain contains only diverging samples. The model is probably misspecified.\n",
      "The acceptance probability does not match the target. It is 0, but should be close to 0.8. Try to increase the number of tuning steps.\n",
      "The chain contains only diverging samples. The model is probably misspecified.\n",
      "The acceptance probability does not match the target. It is 0, but should be close to 0.8. Try to increase the number of tuning steps.\n"
     ]
    }
   ],
   "execution_count": 34
  },
  {
   "metadata": {
    "ExecuteTime": {
     "end_time": "2025-02-18T09:55:37.807802Z",
     "start_time": "2025-02-18T09:55:37.578016Z"
    }
   },
   "cell_type": "code",
   "source": [
    "print(\"\\n=== Model Comparison (WAIC) ===\")\n",
    "comparison_waic = az.compare(\n",
    "    models_traces,  # Pass the dictionary directly\n",
    "    method='BB-pseudo-BMA',\n",
    "    ic='waic',\n",
    "    scale='deviance'\n",
    ")\n",
    "print(comparison_waic)\n",
    "\n",
    "az.plot_compare(comparison_waic)\n",
    "plt.title(\"Model comparison - WAIC\\n(lower is better)\")\n",
    "plt.show()\n",
    "\n",
    "\n",
    "print(\"\\n=== Model Comparison (LOO) ===\")\n",
    "comparison_loo = az.compare(\n",
    "    models_traces,  # Pass the dictionary directly\n",
    "    method='BB-pseudo-BMA',\n",
    "    ic='loo',\n",
    "    scale='deviance'\n",
    ")\n",
    "print(comparison_loo)\n",
    "\n",
    "az.plot_compare(comparison_loo)\n",
    "plt.title(\"Model comparison - LOO\\n(lower is better)\")\n",
    "plt.show()\n"
   ],
   "id": "69cceff31485b234",
   "outputs": [
    {
     "name": "stdout",
     "output_type": "stream",
     "text": [
      "\n",
      "=== Model Comparison (WAIC) ===\n",
      "     rank    elpd_waic       p_waic    elpd_diff  weight          se  \\\n",
      "K=4     0  4854.432217   669.108251     0.000000     NaN  108.483977   \n",
      "K=5     1  5333.317066   938.634365   478.884849     NaN  115.807347   \n",
      "K=3     2  6729.274993  1099.669937  1874.842776     0.0  175.792304   \n",
      "\n",
      "           dse  warning     scale  \n",
      "K=4   0.000000     True  deviance  \n",
      "K=5   7.729585     True  deviance  \n",
      "K=3  67.424252     True  deviance  \n"
     ]
    },
    {
     "name": "stderr",
     "output_type": "stream",
     "text": [
      "C:\\Users\\Victus\\PycharmProjects\\PMP-2024\\.venv1\\lib\\site-packages\\arviz\\stats\\stats.py:1653: UserWarning: For one or more samples the posterior variance of the log predictive densities exceeds 0.4. This could be indication of WAIC starting to fail. \n",
      "See http://arxiv.org/abs/1507.04544 for details\n",
      "  warnings.warn(\n",
      "C:\\Users\\Victus\\PycharmProjects\\PMP-2024\\.venv1\\lib\\site-packages\\arviz\\stats\\stats.py:1653: UserWarning: For one or more samples the posterior variance of the log predictive densities exceeds 0.4. This could be indication of WAIC starting to fail. \n",
      "See http://arxiv.org/abs/1507.04544 for details\n",
      "  warnings.warn(\n",
      "C:\\Users\\Victus\\PycharmProjects\\PMP-2024\\.venv1\\lib\\site-packages\\arviz\\stats\\stats.py:1653: UserWarning: For one or more samples the posterior variance of the log predictive densities exceeds 0.4. This could be indication of WAIC starting to fail. \n",
      "See http://arxiv.org/abs/1507.04544 for details\n",
      "  warnings.warn(\n",
      "C:\\Users\\Victus\\PycharmProjects\\PMP-2024\\.venv1\\lib\\site-packages\\arviz\\stats\\stats.py:268: RuntimeWarning: overflow encountered in exp\n",
      "  u_weights = np.exp((z_b - np.max(z_b)) / scale_value)\n",
      "C:\\Users\\Victus\\PycharmProjects\\PMP-2024\\.venv1\\lib\\site-packages\\arviz\\stats\\stats.py:270: RuntimeWarning: invalid value encountered in divide\n",
      "  weights[i] = u_weights / np.sum(u_weights)\n"
     ]
    },
    {
     "data": {
      "text/plain": [
       "<Figure size 600x300 with 1 Axes>"
      ],
      "image/png": "[encoded data removed]"
     },
     "metadata": {},
     "output_type": "display_data"
    },
    {
     "name": "stderr",
     "output_type": "stream",
     "text": [
      "arviz - WARNING - Shape validation failed: input_shape: (2, 2), minimum_shape: (chains=1, draws=4)\n"
     ]
    },
    {
     "name": "stdout",
     "output_type": "stream",
     "text": [
      "\n",
      "=== Model Comparison (LOO) ===\n",
      "     rank     elpd_loo       p_loo    elpd_diff         weight          se  \\\n",
      "K=4     0  4375.111729  429.448007     0.000000            NaN   77.079701   \n",
      "K=5     1  4570.336541  557.144103   195.224812   5.835327e-43   70.584980   \n",
      "K=3     2  5764.463999  617.264439  1389.352270  1.520212e-277  116.944177   \n",
      "\n",
      "           dse  warning     scale  \n",
      "K=4   0.000000     True  deviance  \n",
      "K=5   6.541271     True  deviance  \n",
      "K=3  40.062757     True  deviance  \n"
     ]
    },
    {
     "name": "stderr",
     "output_type": "stream",
     "text": [
      "C:\\Users\\Victus\\PycharmProjects\\PMP-2024\\.venv1\\lib\\site-packages\\arviz\\stats\\stats.py:795: UserWarning: Estimated shape parameter of Pareto distribution is greater than -0.66 for one or more samples. You should consider using a more robust model, this is because importance sampling is less likely to work well if the marginal posterior and LOO posterior are very different. This is more likely to happen with a non-robust model and highly influential observations.\n",
      "  warnings.warn(\n",
      "C:\\Users\\Victus\\PycharmProjects\\PMP-2024\\.venv1\\lib\\site-packages\\arviz\\stats\\stats.py:795: UserWarning: Estimated shape parameter of Pareto distribution is greater than -0.66 for one or more samples. You should consider using a more robust model, this is because importance sampling is less likely to work well if the marginal posterior and LOO posterior are very different. This is more likely to happen with a non-robust model and highly influential observations.\n",
      "  warnings.warn(\n",
      "C:\\Users\\Victus\\PycharmProjects\\PMP-2024\\.venv1\\lib\\site-packages\\arviz\\stats\\stats.py:795: UserWarning: Estimated shape parameter of Pareto distribution is greater than -0.66 for one or more samples. You should consider using a more robust model, this is because importance sampling is less likely to work well if the marginal posterior and LOO posterior are very different. This is more likely to happen with a non-robust model and highly influential observations.\n",
      "  warnings.warn(\n",
      "C:\\Users\\Victus\\PycharmProjects\\PMP-2024\\.venv1\\lib\\site-packages\\arviz\\stats\\stats.py:268: RuntimeWarning: overflow encountered in exp\n",
      "  u_weights = np.exp((z_b - np.max(z_b)) / scale_value)\n",
      "C:\\Users\\Victus\\PycharmProjects\\PMP-2024\\.venv1\\lib\\site-packages\\arviz\\stats\\stats.py:270: RuntimeWarning: invalid value encountered in divide\n",
      "  weights[i] = u_weights / np.sum(u_weights)\n"
     ]
    },
    {
     "data": {
      "text/plain": [
       "<Figure size 600x300 with 1 Axes>"
      ],
      "image/png": "[encoded data removed]"
     },
     "metadata": {},
     "output_type": "display_data"
    }
   ],
   "execution_count": 35
  },
  {
   "metadata": {
    "ExecuteTime": {
     "end_time": "2025-02-18T09:55:37.822812Z",
     "start_time": "2025-02-18T09:55:37.816087Z"
    }
   },
   "cell_type": "code",
   "source": [
    "# Alegem K optim conform WAIC/LOO\n",
    "best_K = comparison_waic.index[0]  # WAIC recomandă acest K\n",
    "print(f\"\\n=== Best Model Selected: {best_K} ===\")\n",
    "\n",
    "# Extragem trasabilitatea (trace) modelului optim\n",
    "best_trace = models_traces[best_K]\n",
    "\n",
    "# Calculăm media a posteriori pentru fiecare subpopulație\n",
    "mean_weights = best_trace.posterior['mu'].mean(dim=(\"chain\", \"draw\")).values\n",
    "\n",
    "# Afișăm rezultatele\n",
    "print(\"\\n=== Estimated Mean Weights for Each Subpopulation ===\")\n",
    "for i, mu in enumerate(mean_weights):\n",
    "    print(f\"Subpopulation {i+1}: {mu:.2f}\")\n"
   ],
   "id": "7dbe09db811a0628",
   "outputs": [
    {
     "name": "stdout",
     "output_type": "stream",
     "text": [
      "\n",
      "=== Best Model Selected: K=4 ===\n",
      "\n",
      "=== Estimated Mean Weights for Each Subpopulation ===\n",
      "Subpopulation 1: -0.21\n",
      "Subpopulation 2: -0.86\n",
      "Subpopulation 3: 0.25\n",
      "Subpopulation 4: 0.89\n"
     ]
    }
   ],
   "execution_count": 36
  }
 ],
 "metadata": {
  "kernelspec": {
   "display_name": "Python 3",
   "language": "python",
   "name": "python3"
  },
  "language_info": {
   "codemirror_mode": {
    "name": "ipython",
    "version": 2
   },
   "file_extension": ".py",
   "mimetype": "text/x-python",
   "name": "python",
   "nbconvert_exporter": "python",
   "pygments_lexer": "ipython2",
   "version": "2.7.6"
  }
 },
 "nbformat": 4,
 "nbformat_minor": 5
}
