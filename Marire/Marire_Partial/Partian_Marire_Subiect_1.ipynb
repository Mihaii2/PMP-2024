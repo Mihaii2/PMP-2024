{
 "cells": [
  {
   "metadata": {
    "collapsed": true,
    "ExecuteTime": {
     "end_time": "2025-02-18T08:31:21.009469Z",
     "start_time": "2025-02-18T08:31:20.993600Z"
    }
   },
   "cell_type": "code",
   "source": "",
   "id": "initial_id",
   "outputs": [],
   "execution_count": null
  },
  {
   "metadata": {
    "ExecuteTime": {
     "end_time": "2025-02-18T08:31:21.025546Z",
     "start_time": "2025-02-18T08:31:21.009469Z"
    }
   },
   "cell_type": "code",
   "source": [
    "import numpy as np\n",
    "from pgmpy.models import BayesianNetwork\n",
    "from pgmpy.factors.discrete import TabularCPD\n",
    "from pgmpy.inference import VariableElimination\n",
    "\n",
    "\n",
    "model = BayesianNetwork([\n",
    "    ('A', 'C'),\n",
    "    ('B', 'D'),\n",
    "    ('C', 'D')\n",
    "])\n"
   ],
   "id": "45111216ddff5da0",
   "outputs": [],
   "execution_count": 6
  },
  {
   "metadata": {
    "ExecuteTime": {
     "end_time": "2025-02-18T08:31:21.056921Z",
     "start_time": "2025-02-18T08:31:21.041207Z"
    }
   },
   "cell_type": "code",
   "source": [
    "\n",
    "cpd_A = TabularCPD(\n",
    "    variable='A',\n",
    "    variable_card=2,\n",
    "    values=[[0.1],\n",
    "            [0.9]]\n",
    ")\n",
    "\n",
    "cpd_B = TabularCPD(\n",
    "    variable='B',\n",
    "    variable_card=2,\n",
    "    values=[[0.5],\n",
    "            [0.5]]\n",
    ")\n",
    "\n",
    "cpd_C = TabularCPD(\n",
    "    variable='C',\n",
    "    variable_card=2,\n",
    "    values=[\n",
    "        [0.7, 0.8],  # C=0 given A=0 and A=1\n",
    "        [0.3, 0.2]   # C=1 given A=0 and A=1\n",
    "    ],\n",
    "    evidence=['A'],\n",
    "    evidence_card=[2]\n",
    ")\n",
    "\n",
    "cpd_D = TabularCPD(\n",
    "    variable='D',\n",
    "    variable_card=2,\n",
    "    values=[\n",
    "        [0.3, 0.5, 0.4, 0.8],  # D=0\n",
    "        [0.7, 0.5, 0.6, 0.2]   # D=1\n",
    "    ],\n",
    "    evidence=['B', 'C'],\n",
    "    evidence_card=[2, 2]\n",
    ")\n",
    "\n",
    "model.add_cpds(cpd_A, cpd_B, cpd_C, cpd_D)\n",
    "\n",
    "assert model.check_model()\n",
    "print(\"CPDs added and model is valid.\")\n"
   ],
   "id": "36334a7e157f0235",
   "outputs": [
    {
     "name": "stdout",
     "output_type": "stream",
     "text": [
      "CPDs added and model is valid.\n"
     ]
    }
   ],
   "execution_count": 7
  },
  {
   "metadata": {
    "ExecuteTime": {
     "end_time": "2025-02-18T08:31:21.088521Z",
     "start_time": "2025-02-18T08:31:21.073542Z"
    }
   },
   "cell_type": "code",
   "source": [
    "infer = VariableElimination(model)\n",
    "posterior_A_given_C1 = infer.query(\n",
    "    variables=['A'],\n",
    "    evidence={'C': 1}\n",
    ")\n",
    "print(\"Posterior distribution of A given C=1:\")\n",
    "print(posterior_A_given_C1)\n",
    "\n",
    "\n",
    "print(\"\\nP(A=0 | C=1) =\", posterior_A_given_C1.values[0])\n",
    "print(\"P(A=1 | C=1) =\", posterior_A_given_C1.values[1])\n"
   ],
   "id": "bf1de9c9c4dce779",
   "outputs": [
    {
     "name": "stdout",
     "output_type": "stream",
     "text": [
      "Posterior distribution of A given C=1:\n",
      "+------+----------+\n",
      "| A    |   phi(A) |\n",
      "+======+==========+\n",
      "| A(0) |   0.1429 |\n",
      "+------+----------+\n",
      "| A(1) |   0.8571 |\n",
      "+------+----------+\n",
      "\n",
      "P(A=0 | C=1) = 0.14285714285714285\n",
      "P(A=1 | C=1) = 0.8571428571428572\n"
     ]
    }
   ],
   "execution_count": 8
  },
  {
   "metadata": {
    "ExecuteTime": {
     "end_time": "2025-02-18T08:31:21.163666Z",
     "start_time": "2025-02-18T08:31:21.147876Z"
    }
   },
   "cell_type": "code",
   "source": [
    "pD = infer.query(variables=['D'])\n",
    "print(\"Distribution of D:\", pD)\n",
    "print(\"P(D=0) =\", pD.values[0])\n",
    "print(\"P(D=1) =\", pD.values[1])\n"
   ],
   "id": "c08f87bd25e8c1ac",
   "outputs": [
    {
     "name": "stdout",
     "output_type": "stream",
     "text": [
      "Distribution of D: +------+----------+\n",
      "| D    |   phi(D) |\n",
      "+======+==========+\n",
      "| D(0) |   0.4130 |\n",
      "+------+----------+\n",
      "| D(1) |   0.5870 |\n",
      "+------+----------+\n",
      "P(D=0) = 0.413\n",
      "P(D=1) = 0.587\n"
     ]
    }
   ],
   "execution_count": 9
  }
 ],
 "metadata": {
  "kernelspec": {
   "display_name": "Python 3",
   "language": "python",
   "name": "python3"
  },
  "language_info": {
   "codemirror_mode": {
    "name": "ipython",
    "version": 2
   },
   "file_extension": ".py",
   "mimetype": "text/x-python",
   "name": "python",
   "nbconvert_exporter": "python",
   "pygments_lexer": "ipython2",
   "version": "2.7.6"
  }
 },
 "nbformat": 4,
 "nbformat_minor": 5
}
