{
 "cells": [
  {
   "metadata": {
    "ExecuteTime": {
     "end_time": "2025-02-17T13:54:34.588878Z",
     "start_time": "2025-02-17T13:54:34.569434Z"
    }
   },
   "cell_type": "code",
   "source": [
    "import numpy as np\n",
    "import pandas as pd\n",
    "import pymc as pm\n",
    "import arviz as az\n",
    "\n",
    "# For printing in a nice format\n",
    "from IPython.display import display\n",
    "\n",
    "# Read the Iris dataset (ensure iris.csv is in the same directory)\n",
    "df = pd.read_csv(\"iris.csv\")\n",
    "df.head()\n"
   ],
   "id": "5e85216f0686d9f3",
   "outputs": [
    {
     "data": {
      "text/plain": [
       "   sepal_length  sepal_width  petal_length  petal_width species\n",
       "0           5.1          3.5           1.4          0.2  setosa\n",
       "1           4.9          3.0           1.4          0.2  setosa\n",
       "2           4.7          3.2           1.3          0.2  setosa\n",
       "3           4.6          3.1           1.5          0.2  setosa\n",
       "4           5.0          3.6           1.4          0.2  setosa"
      ],
      "text/html": [
       "<div>\n",
       "<style scoped>\n",
       "    .dataframe tbody tr th:only-of-type {\n",
       "        vertical-align: middle;\n",
       "    }\n",
       "\n",
       "    .dataframe tbody tr th {\n",
       "        vertical-align: top;\n",
       "    }\n",
       "\n",
       "    .dataframe thead th {\n",
       "        text-align: right;\n",
       "    }\n",
       "</style>\n",
       "<table border=\"1\" class=\"dataframe\">\n",
       "  <thead>\n",
       "    <tr style=\"text-align: right;\">\n",
       "      <th></th>\n",
       "      <th>sepal_length</th>\n",
       "      <th>sepal_width</th>\n",
       "      <th>petal_length</th>\n",
       "      <th>petal_width</th>\n",
       "      <th>species</th>\n",
       "    </tr>\n",
       "  </thead>\n",
       "  <tbody>\n",
       "    <tr>\n",
       "      <th>0</th>\n",
       "      <td>5.1</td>\n",
       "      <td>3.5</td>\n",
       "      <td>1.4</td>\n",
       "      <td>0.2</td>\n",
       "      <td>setosa</td>\n",
       "    </tr>\n",
       "    <tr>\n",
       "      <th>1</th>\n",
       "      <td>4.9</td>\n",
       "      <td>3.0</td>\n",
       "      <td>1.4</td>\n",
       "      <td>0.2</td>\n",
       "      <td>setosa</td>\n",
       "    </tr>\n",
       "    <tr>\n",
       "      <th>2</th>\n",
       "      <td>4.7</td>\n",
       "      <td>3.2</td>\n",
       "      <td>1.3</td>\n",
       "      <td>0.2</td>\n",
       "      <td>setosa</td>\n",
       "    </tr>\n",
       "    <tr>\n",
       "      <th>3</th>\n",
       "      <td>4.6</td>\n",
       "      <td>3.1</td>\n",
       "      <td>1.5</td>\n",
       "      <td>0.2</td>\n",
       "      <td>setosa</td>\n",
       "    </tr>\n",
       "    <tr>\n",
       "      <th>4</th>\n",
       "      <td>5.0</td>\n",
       "      <td>3.6</td>\n",
       "      <td>1.4</td>\n",
       "      <td>0.2</td>\n",
       "      <td>setosa</td>\n",
       "    </tr>\n",
       "  </tbody>\n",
       "</table>\n",
       "</div>"
      ]
     },
     "execution_count": 5,
     "metadata": {},
     "output_type": "execute_result"
    }
   ],
   "execution_count": 5
  },
  {
   "metadata": {
    "ExecuteTime": {
     "end_time": "2025-02-17T13:54:41.635424Z",
     "start_time": "2025-02-17T13:54:41.629079Z"
    }
   },
   "cell_type": "code",
   "source": [
    "def fit_1d_gaussian_mixture(data, k=3, tune=10, draws=10, chains=2):\n",
    "    \"\"\"\n",
    "    Fits a 1D Gaussian Mixture Model with 'k' components to 'data'.\n",
    "    Returns the pymc Trace (InferenceData).\n",
    "    \"\"\"\n",
    "    with pm.Model() as model:\n",
    "        # Mixture component weights\n",
    "        weights = pm.Dirichlet('weights', np.ones(k), shape=k)\n",
    "\n",
    "        # Means of each mixture component\n",
    "        means = pm.Normal('means', mu=0, sigma=5, shape=k)\n",
    "\n",
    "        # Standard deviations of each mixture component\n",
    "        sds = pm.HalfNormal('sds', sigma=5, shape=k)\n",
    "\n",
    "        # The observed mixture\n",
    "        pm.NormalMixture(\n",
    "            'obs',\n",
    "            w=weights,\n",
    "            mu=means,\n",
    "            sigma=sds,\n",
    "            observed=data\n",
    "        )\n",
    "\n",
    "        # Sample (small tune/draws just for demo)\n",
    "        trace = pm.sample(\n",
    "            tune=tune,\n",
    "            draws=draws,\n",
    "            chains=chains,\n",
    "            random_seed=42,\n",
    "            progressbar=True\n",
    "        )\n",
    "\n",
    "    return trace\n"
   ],
   "id": "2b6587e49c86a6ab",
   "outputs": [],
   "execution_count": 6
  },
  {
   "metadata": {
    "ExecuteTime": {
     "end_time": "2025-02-17T13:56:02.163742Z",
     "start_time": "2025-02-17T13:54:52.959630Z"
    }
   },
   "cell_type": "code",
   "source": [
    "features = [\"sepal_length\", \"sepal_width\", \"petal_length\", \"petal_width\"]\n",
    "traces = {}\n",
    "\n",
    "for feature in features:\n",
    "    print(f\"\\nFitting mixture for: {feature}\")\n",
    "    data_1d = df[feature].values\n",
    "    trace = fit_1d_gaussian_mixture(data_1d, k=3, tune=10, draws=10, chains=2)\n",
    "    traces[feature] = trace\n"
   ],
   "id": "559653cc90b2a85d",
   "outputs": [
    {
     "name": "stderr",
     "output_type": "stream",
     "text": [
      "Only 10 samples in chain.\n"
     ]
    },
    {
     "name": "stdout",
     "output_type": "stream",
     "text": [
      "\n",
      "Fitting mixture for: sepal_length\n"
     ]
    },
    {
     "name": "stderr",
     "output_type": "stream",
     "text": [
      "Auto-assigning NUTS sampler...\n",
      "Initializing NUTS using jitter+adapt_diag...\n",
      "Multiprocess sampling (2 chains in 4 jobs)\n",
      "NUTS: [weights, means, sds]\n"
     ]
    },
    {
     "data": {
      "text/plain": [
       "<IPython.core.display.HTML object>"
      ],
      "text/html": [
       "\n",
       "<style>\n",
       "    /* Turns off some styling */\n",
       "    progress {\n",
       "        /* gets rid of default border in Firefox and Opera. */\n",
       "        border: none;\n",
       "        /* Needs to be in here for Safari polyfill so background images work as expected. */\n",
       "        background-size: auto;\n",
       "    }\n",
       "    progress:not([value]), progress:not([value])::-webkit-progress-bar {\n",
       "        background: repeating-linear-gradient(45deg, #7e7e7e, #7e7e7e 10px, #5c5c5c 10px, #5c5c5c 20px);\n",
       "    }\n",
       "    .progress-bar-interrupted, .progress-bar-interrupted::-webkit-progress-bar {\n",
       "        background: #F44336;\n",
       "    }\n",
       "</style>\n"
      ]
     },
     "metadata": {},
     "output_type": "display_data"
    },
    {
     "data": {
      "text/plain": [
       "<IPython.core.display.HTML object>"
      ],
      "text/html": [
       "\n",
       "    <div>\n",
       "      <progress value='40' class='' max='40' style='width:300px; height:20px; vertical-align: middle;'></progress>\n",
       "      100.00% [40/40 00:08&lt;00:00 Sampling 2 chains, 0 divergences]\n",
       "    </div>\n",
       "    "
      ]
     },
     "metadata": {},
     "output_type": "display_data"
    },
    {
     "name": "stderr",
     "output_type": "stream",
     "text": [
      "Sampling 2 chains for 10 tune and 10 draw iterations (20 + 20 draws total) took 12 seconds.\n",
      "C:\\Users\\Victus\\AppData\\Local\\Temp\\ipykernel_23800\\2102360251.py:26: UserWarning: The number of samples is too small to check convergence reliably.\n",
      "  trace = pm.sample(\n"
     ]
    },
    {
     "name": "stdout",
     "output_type": "stream",
     "text": [
      "\n",
      "Fitting mixture for: sepal_width\n"
     ]
    },
    {
     "name": "stderr",
     "output_type": "stream",
     "text": [
      "Only 10 samples in chain.\n",
      "Auto-assigning NUTS sampler...\n",
      "Initializing NUTS using jitter+adapt_diag...\n",
      "Multiprocess sampling (2 chains in 4 jobs)\n",
      "NUTS: [weights, means, sds]\n"
     ]
    },
    {
     "data": {
      "text/plain": [
       "<IPython.core.display.HTML object>"
      ],
      "text/html": [
       "\n",
       "<style>\n",
       "    /* Turns off some styling */\n",
       "    progress {\n",
       "        /* gets rid of default border in Firefox and Opera. */\n",
       "        border: none;\n",
       "        /* Needs to be in here for Safari polyfill so background images work as expected. */\n",
       "        background-size: auto;\n",
       "    }\n",
       "    progress:not([value]), progress:not([value])::-webkit-progress-bar {\n",
       "        background: repeating-linear-gradient(45deg, #7e7e7e, #7e7e7e 10px, #5c5c5c 10px, #5c5c5c 20px);\n",
       "    }\n",
       "    .progress-bar-interrupted, .progress-bar-interrupted::-webkit-progress-bar {\n",
       "        background: #F44336;\n",
       "    }\n",
       "</style>\n"
      ]
     },
     "metadata": {},
     "output_type": "display_data"
    },
    {
     "data": {
      "text/plain": [
       "<IPython.core.display.HTML object>"
      ],
      "text/html": [
       "\n",
       "    <div>\n",
       "      <progress value='40' class='' max='40' style='width:300px; height:20px; vertical-align: middle;'></progress>\n",
       "      100.00% [40/40 00:15&lt;00:00 Sampling 2 chains, 0 divergences]\n",
       "    </div>\n",
       "    "
      ]
     },
     "metadata": {},
     "output_type": "display_data"
    },
    {
     "name": "stderr",
     "output_type": "stream",
     "text": [
      "Sampling 2 chains for 10 tune and 10 draw iterations (20 + 20 draws total) took 20 seconds.\n",
      "Only 10 samples in chain.\n"
     ]
    },
    {
     "name": "stdout",
     "output_type": "stream",
     "text": [
      "\n",
      "Fitting mixture for: petal_length\n"
     ]
    },
    {
     "name": "stderr",
     "output_type": "stream",
     "text": [
      "Auto-assigning NUTS sampler...\n",
      "Initializing NUTS using jitter+adapt_diag...\n",
      "Multiprocess sampling (2 chains in 4 jobs)\n",
      "NUTS: [weights, means, sds]\n"
     ]
    },
    {
     "data": {
      "text/plain": [
       "<IPython.core.display.HTML object>"
      ],
      "text/html": [
       "\n",
       "<style>\n",
       "    /* Turns off some styling */\n",
       "    progress {\n",
       "        /* gets rid of default border in Firefox and Opera. */\n",
       "        border: none;\n",
       "        /* Needs to be in here for Safari polyfill so background images work as expected. */\n",
       "        background-size: auto;\n",
       "    }\n",
       "    progress:not([value]), progress:not([value])::-webkit-progress-bar {\n",
       "        background: repeating-linear-gradient(45deg, #7e7e7e, #7e7e7e 10px, #5c5c5c 10px, #5c5c5c 20px);\n",
       "    }\n",
       "    .progress-bar-interrupted, .progress-bar-interrupted::-webkit-progress-bar {\n",
       "        background: #F44336;\n",
       "    }\n",
       "</style>\n"
      ]
     },
     "metadata": {},
     "output_type": "display_data"
    },
    {
     "data": {
      "text/plain": [
       "<IPython.core.display.HTML object>"
      ],
      "text/html": [
       "\n",
       "    <div>\n",
       "      <progress value='40' class='' max='40' style='width:300px; height:20px; vertical-align: middle;'></progress>\n",
       "      100.00% [40/40 00:06&lt;00:00 Sampling 2 chains, 2 divergences]\n",
       "    </div>\n",
       "    "
      ]
     },
     "metadata": {},
     "output_type": "display_data"
    },
    {
     "name": "stderr",
     "output_type": "stream",
     "text": [
      "Sampling 2 chains for 10 tune and 10 draw iterations (20 + 20 draws total) took 10 seconds.\n",
      "There was 1 divergence after tuning. Increase `target_accept` or reparameterize.\n",
      "There was 1 divergence after tuning. Increase `target_accept` or reparameterize.\n",
      "Only 10 samples in chain.\n"
     ]
    },
    {
     "name": "stdout",
     "output_type": "stream",
     "text": [
      "\n",
      "Fitting mixture for: petal_width\n"
     ]
    },
    {
     "name": "stderr",
     "output_type": "stream",
     "text": [
      "Auto-assigning NUTS sampler...\n",
      "Initializing NUTS using jitter+adapt_diag...\n",
      "Multiprocess sampling (2 chains in 4 jobs)\n",
      "NUTS: [weights, means, sds]\n"
     ]
    },
    {
     "data": {
      "text/plain": [
       "<IPython.core.display.HTML object>"
      ],
      "text/html": [
       "\n",
       "<style>\n",
       "    /* Turns off some styling */\n",
       "    progress {\n",
       "        /* gets rid of default border in Firefox and Opera. */\n",
       "        border: none;\n",
       "        /* Needs to be in here for Safari polyfill so background images work as expected. */\n",
       "        background-size: auto;\n",
       "    }\n",
       "    progress:not([value]), progress:not([value])::-webkit-progress-bar {\n",
       "        background: repeating-linear-gradient(45deg, #7e7e7e, #7e7e7e 10px, #5c5c5c 10px, #5c5c5c 20px);\n",
       "    }\n",
       "    .progress-bar-interrupted, .progress-bar-interrupted::-webkit-progress-bar {\n",
       "        background: #F44336;\n",
       "    }\n",
       "</style>\n"
      ]
     },
     "metadata": {},
     "output_type": "display_data"
    },
    {
     "data": {
      "text/plain": [
       "<IPython.core.display.HTML object>"
      ],
      "text/html": [
       "\n",
       "    <div>\n",
       "      <progress value='40' class='' max='40' style='width:300px; height:20px; vertical-align: middle;'></progress>\n",
       "      100.00% [40/40 00:10&lt;00:00 Sampling 2 chains, 0 divergences]\n",
       "    </div>\n",
       "    "
      ]
     },
     "metadata": {},
     "output_type": "display_data"
    },
    {
     "name": "stderr",
     "output_type": "stream",
     "text": [
      "Sampling 2 chains for 10 tune and 10 draw iterations (20 + 20 draws total) took 15 seconds.\n",
      "The acceptance probability does not match the target. It is 2.08e-28, but should be close to 0.8. Try to increase the number of tuning steps.\n"
     ]
    }
   ],
   "execution_count": 7
  },
  {
   "metadata": {
    "ExecuteTime": {
     "end_time": "2025-02-17T13:56:09.585119Z",
     "start_time": "2025-02-17T13:56:09.568807Z"
    }
   },
   "cell_type": "code",
   "source": [
    "import itertools\n",
    "\n",
    "# Map species strings to numeric labels: 0,1,2\n",
    "species_labels = {'setosa': 0, 'versicolor': 1, 'virginica': 2}\n",
    "df['species_num'] = df['species'].map(species_labels)\n",
    "\n",
    "def get_cluster_assignments(data, trace):\n",
    "    \"\"\"\n",
    "    Given data 1D and a trace (InferenceData), return the cluster assignment\n",
    "    for each data point using the posterior mean of mixture parameters.\n",
    "    \"\"\"\n",
    "    # Posterior means (averaged over all draws and chains)\n",
    "    weight_means = trace.posterior[\"weights\"].mean(dim=(\"chain\", \"draw\")).values\n",
    "    mean_means   = trace.posterior[\"means\"].mean(dim=(\"chain\", \"draw\")).values\n",
    "    sds_means    = trace.posterior[\"sds\"].mean(dim=(\"chain\", \"draw\")).values\n",
    "\n",
    "    # For each x in data, compute p(cluster=k | x)\n",
    "    # p_k(x) = weight_means[k] * NormalPDF(x|mean_means[k], sds_means[k])\n",
    "    # We'll assign the cluster with the highest p_k(x).\n",
    "\n",
    "    def normal_pdf(x, mu, sigma):\n",
    "        return (1.0 / (sigma * np.sqrt(2*np.pi))) * np.exp(-0.5 * ((x - mu)/sigma)**2)\n",
    "\n",
    "    cluster_assignments = []\n",
    "    for x in data:\n",
    "        # compute each cluster's probability (not normalized across clusters, but it's enough to pick argmax)\n",
    "        cluster_probs = [\n",
    "            weight_means[k] * normal_pdf(x, mean_means[k], sds_means[k])\n",
    "            for k in range(3)\n",
    "        ]\n",
    "        # pick the cluster with max probability\n",
    "        cluster_assignments.append(np.argmax(cluster_probs))\n",
    "\n",
    "    return np.array(cluster_assignments)\n",
    "\n",
    "def best_accuracy(true_labels, cluster_labels):\n",
    "    \"\"\"\n",
    "    Find the best mapping from cluster_labels={0,1,2} to species labels={0,1,2}\n",
    "    so that accuracy is maximized. Return that accuracy.\n",
    "    \"\"\"\n",
    "    best_acc = 0.0\n",
    "    for perm in itertools.permutations([0,1,2]):\n",
    "        # perm is a tuple like (0,1,2), meaning cluster0->0, cluster1->1, cluster2->2\n",
    "        mapped = np.array([perm[c] for c in cluster_labels])\n",
    "        acc = np.mean(mapped == true_labels)\n",
    "        if acc > best_acc:\n",
    "            best_acc = acc\n",
    "    return best_acc\n",
    "\n",
    "results = []\n",
    "\n",
    "for feature in features:\n",
    "    data_1d = df[feature].values\n",
    "    trace = traces[feature]\n",
    "    clusters = get_cluster_assignments(data_1d, trace)\n",
    "    acc = best_accuracy(df['species_num'].values, clusters)\n",
    "    results.append((feature, acc))\n",
    "\n",
    "print(\"Accuracy for each feature (1D mixture, best cluster-species mapping):\")\n",
    "for feature, acc in results:\n",
    "    print(f\"{feature:15s} -> Accuracy: {acc:.3f}\")\n"
   ],
   "id": "e60b851eb9114051",
   "outputs": [
    {
     "name": "stdout",
     "output_type": "stream",
     "text": [
      "Accuracy for each feature (1D mixture, best cluster-species mapping):\n",
      "sepal_length    -> Accuracy: 0.413\n",
      "sepal_width     -> Accuracy: 0.333\n",
      "petal_length    -> Accuracy: 0.667\n",
      "petal_width     -> Accuracy: 0.333\n"
     ]
    }
   ],
   "execution_count": 8
  }
 ],
 "metadata": {
  "kernelspec": {
   "display_name": "Python 3",
   "language": "python",
   "name": "python3"
  },
  "language_info": {
   "codemirror_mode": {
    "name": "ipython",
    "version": 2
   },
   "file_extension": ".py",
   "mimetype": "text/x-python",
   "name": "python",
   "nbconvert_exporter": "python",
   "pygments_lexer": "ipython2",
   "version": "2.7.6"
  }
 },
 "nbformat": 4,
 "nbformat_minor": 5
}
