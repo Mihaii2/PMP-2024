{
 "cells": [
  {
   "cell_type": "code",
   "id": "initial_id",
   "metadata": {
    "collapsed": true,
    "jupyter": {
     "is_executing": true
    },
    "ExecuteTime": {
     "start_time": "2025-02-17T13:36:05.025613Z"
    }
   },
   "source": [
    "import numpy as np\n",
    "import pandas as pd\n",
    "import pymc as pm\n",
    "import arviz as az\n",
    "import matplotlib.pyplot as plt\n",
    "\n",
    "# 1. LOAD THE DATA\n",
    "data = pd.read_csv(\"date_alegeri_turul2.csv\")  # Make sure your CSV has columns: varsta, sex, educatie, venit, vot\n",
    "age = data['Varsta'].values\n",
    "sex = data['Sex'].values\n",
    "education = data['Educatie'].values\n",
    "venit = data['Venit'].values\n",
    "vote = data['Vot'].values  # 1 = candidate A, 0 = candidate B\n",
    "\n",
    "# 2. BUILD THE FULL MODEL WITH ALL FOUR PREDICTORS\n",
    "with pm.Model() as full_model:\n",
    "    # Priors for coefficients\n",
    "    intercept = pm.Normal(\"intercept\", mu=0, sigma=10)\n",
    "    beta_age = pm.Normal(\"beta_age\", mu=0, sigma=10)\n",
    "    beta_sex = pm.Normal(\"beta_sex\", mu=0, sigma=10)\n",
    "    beta_edu = pm.Normal(\"beta_educatie\", mu=0, sigma=10)\n",
    "    beta_venit = pm.Normal(\"beta_venit\", mu=0, sigma=10)\n",
    "\n",
    "    # Linear combination\n",
    "    mu = (intercept\n",
    "          + beta_age * age\n",
    "          + beta_sex * sex\n",
    "          + beta_edu * education\n",
    "          + beta_venit * venit)\n",
    "\n",
    "    # Probability via logistic (sigmoid) function\n",
    "    p = pm.Deterministic(\"p\", pm.math.sigmoid(mu))\n",
    "\n",
    "    # Likelihood\n",
    "    y_obs = pm.Bernoulli(\"y_obs\", p=p, observed=vote)\n",
    "\n",
    "    # 3. SAMPLE\n",
    "    # We use few draws (10) and few tuning steps (10) just to see that code runs\n",
    "    idata_full = pm.sample(draws=2000, tune=1000, chains=1, target_accept=0.9,\n",
    "                           return_inferencedata=True, idata_kwargs={\"log_likelihood\": True})\n",
    "\n",
    "# 4. SUMMARIZE POSTERIOR\n",
    "print(\"\\nSummary of the full model:\")\n",
    "display(az.summary(idata_full, var_names=[\"intercept\", \"beta_age\", \"beta_sex\", \"beta_educatie\", \"beta_venit\"]))\n"
   ],
   "outputs": [
    {
     "name": "stderr",
     "output_type": "stream",
     "text": [
      "Auto-assigning NUTS sampler...\n",
      "Initializing NUTS using jitter+adapt_diag...\n",
      "Sequential sampling (1 chains in 1 job)\n",
      "NUTS: [intercept, beta_age, beta_sex, beta_educatie, beta_venit]\n"
     ]
    },
    {
     "data": {
      "text/plain": [
       "<IPython.core.display.HTML object>"
      ],
      "text/html": [
       "\n",
       "<style>\n",
       "    /* Turns off some styling */\n",
       "    progress {\n",
       "        /* gets rid of default border in Firefox and Opera. */\n",
       "        border: none;\n",
       "        /* Needs to be in here for Safari polyfill so background images work as expected. */\n",
       "        background-size: auto;\n",
       "    }\n",
       "    progress:not([value]), progress:not([value])::-webkit-progress-bar {\n",
       "        background: repeating-linear-gradient(45deg, #7e7e7e, #7e7e7e 10px, #5c5c5c 10px, #5c5c5c 20px);\n",
       "    }\n",
       "    .progress-bar-interrupted, .progress-bar-interrupted::-webkit-progress-bar {\n",
       "        background: #F44336;\n",
       "    }\n",
       "</style>\n"
      ]
     },
     "metadata": {},
     "output_type": "display_data"
    },
    {
     "data": {
      "text/plain": [
       "<IPython.core.display.HTML object>"
      ],
      "text/html": [
       "\n",
       "    <div>\n",
       "      <progress value='11' class='' max='3000' style='width:300px; height:20px; vertical-align: middle;'></progress>\n",
       "      0.37% [11/3000 00:08&lt;36:34 Sampling chain 0, 0 divergences]\n",
       "    </div>\n",
       "    "
      ]
     },
     "metadata": {},
     "output_type": "display_data"
    }
   ],
   "execution_count": null
  },
  {
   "metadata": {
    "ExecuteTime": {
     "end_time": "2025-02-17T13:36:03.692051600Z",
     "start_time": "2025-02-17T13:26:45.294013Z"
    }
   },
   "cell_type": "code",
   "source": [
    "# We'll look at the posterior means in absolute value as a naive measure of \"influence\"\n",
    "# (In practice, you might consider credible intervals or standardized effects.)\n",
    "\n",
    "summary_full = az.summary(\n",
    "    idata_full,\n",
    "    var_names=[\"beta_age\", \"beta_sex\", \"beta_educatie\", \"beta_venit\"],\n",
    "    kind=\"stats\"\n",
    ")\n",
    "\n",
    "abs_means = summary_full[\"mean\"].abs().sort_values(ascending=False)\n",
    "top_2 = abs_means.head(2)\n",
    "print(\"Posterior means (absolute) in descending order:\\n\", abs_means, \"\\n\")\n",
    "print(\"The two variables with the largest absolute posterior mean:\\n\", top_2.index.tolist())\n"
   ],
   "id": "30b0d83074ca3fa9",
   "outputs": [
    {
     "name": "stdout",
     "output_type": "stream",
     "text": [
      "Posterior means (absolute) in descending order:\n",
      " beta_sex         0.457\n",
      "beta_educatie    0.251\n",
      "beta_venit       0.143\n",
      "beta_age         0.061\n",
      "Name: mean, dtype: float64 \n",
      "\n",
      "The two variables with the largest absolute posterior mean:\n",
      " ['beta_sex', 'beta_educatie']\n"
     ]
    }
   ],
   "execution_count": 2
  },
  {
   "metadata": {
    "ExecuteTime": {
     "end_time": "2025-02-17T13:36:03.693083300Z",
     "start_time": "2025-02-17T13:31:56.360286Z"
    }
   },
   "cell_type": "code",
   "source": [
    "import numpy as np\n",
    "import pandas as pd\n",
    "import pymc as pm\n",
    "import arviz as az\n",
    "import matplotlib.pyplot as plt\n",
    "import xarray as xr\n",
    "\n",
    "# Load the data\n",
    "data = pd.read_csv(\"date_alegeri_turul2.csv\")\n",
    "X1 = data[\"Sex\"].values\n",
    "X2 = data[\"Educatie\"].values\n",
    "vote = data[\"Vot\"].values"
   ],
   "id": "7e85414aa719ae06",
   "outputs": [],
   "execution_count": 8
  },
  {
   "metadata": {
    "ExecuteTime": {
     "end_time": "2025-02-17T13:36:03.705043200Z",
     "start_time": "2025-02-17T13:32:00.156320Z"
    }
   },
   "cell_type": "code",
   "source": [
    "with pm.Model() as two_vars_model:\n",
    "    intercept = pm.Normal(\"intercept\", mu=0, sigma=10)\n",
    "    beta_X1 = pm.Normal(\"beta_sex\", mu=0, sigma=10)\n",
    "    beta_X2 = pm.Normal(\"beta_educatie\", mu=0, sigma=10)\n",
    "\n",
    "    mu = intercept + beta_X1 * X1 + beta_X2 * X2\n",
    "    p = pm.Deterministic(\"p\", pm.math.sigmoid(mu))\n",
    "\n",
    "    y_obs = pm.Bernoulli(\"y_obs\", p=p, observed=vote)\n",
    "\n",
    "    idata_two = pm.sample(draws=2000, tune=1000, chains=2, target_accept=0.9,\n",
    "                          return_inferencedata=True, idata_kwargs={\"log_likelihood\": True})\n"
   ],
   "id": "7f6520e33ed8c1d7",
   "outputs": [
    {
     "name": "stderr",
     "output_type": "stream",
     "text": [
      "Only 10 samples in chain.\n",
      "Auto-assigning NUTS sampler...\n",
      "Initializing NUTS using jitter+adapt_diag...\n",
      "Multiprocess sampling (2 chains in 4 jobs)\n",
      "NUTS: [intercept, beta_sex, beta_educatie]\n"
     ]
    },
    {
     "data": {
      "text/plain": [
       "<IPython.core.display.HTML object>"
      ],
      "text/html": [
       "\n",
       "<style>\n",
       "    /* Turns off some styling */\n",
       "    progress {\n",
       "        /* gets rid of default border in Firefox and Opera. */\n",
       "        border: none;\n",
       "        /* Needs to be in here for Safari polyfill so background images work as expected. */\n",
       "        background-size: auto;\n",
       "    }\n",
       "    progress:not([value]), progress:not([value])::-webkit-progress-bar {\n",
       "        background: repeating-linear-gradient(45deg, #7e7e7e, #7e7e7e 10px, #5c5c5c 10px, #5c5c5c 20px);\n",
       "    }\n",
       "    .progress-bar-interrupted, .progress-bar-interrupted::-webkit-progress-bar {\n",
       "        background: #F44336;\n",
       "    }\n",
       "</style>\n"
      ]
     },
     "metadata": {},
     "output_type": "display_data"
    },
    {
     "data": {
      "text/plain": [
       "<IPython.core.display.HTML object>"
      ],
      "text/html": [
       "\n",
       "    <div>\n",
       "      <progress value='40' class='' max='40' style='width:300px; height:20px; vertical-align: middle;'></progress>\n",
       "      100.00% [40/40 00:02&lt;00:00 Sampling 2 chains, 0 divergences]\n",
       "    </div>\n",
       "    "
      ]
     },
     "metadata": {},
     "output_type": "display_data"
    },
    {
     "name": "stderr",
     "output_type": "stream",
     "text": [
      "Sampling 2 chains for 10 tune and 10 draw iterations (20 + 20 draws total) took 7 seconds.\n",
      "C:\\Users\\Victus\\AppData\\Local\\Temp\\ipykernel_17640\\3851313063.py:11: UserWarning: The number of samples is too small to check convergence reliably.\n",
      "  idata_two = pm.sample(draws=10, tune=10, chains=2, target_accept=0.9,\n"
     ]
    }
   ],
   "execution_count": 9
  },
  {
   "metadata": {
    "ExecuteTime": {
     "end_time": "2025-02-17T13:36:03.708033100Z",
     "start_time": "2025-02-17T13:32:14.675218Z"
    }
   },
   "cell_type": "code",
   "source": [
    "# Summary of the two-variables model\n",
    "print(\"\\nSummary of the two-variables model:\")\n",
    "display(az.summary(idata_two, var_names=[\"intercept\", \"beta_sex\", \"beta_educatie\"]))\n"
   ],
   "id": "fa3ee3751f4da783",
   "outputs": [
    {
     "name": "stdout",
     "output_type": "stream",
     "text": [
      "\n",
      "Summary of the two-variables model:\n"
     ]
    },
    {
     "data": {
      "text/plain": [
       "                mean     sd  hdi_3%  hdi_97%  mcse_mean  mcse_sd  ess_bulk  \\\n",
       "intercept      1.377  0.137   1.168    1.577      0.034    0.025      16.0   \n",
       "beta_sex      -0.926  0.122  -1.140   -0.775      0.025    0.018      24.0   \n",
       "beta_educatie  0.562  0.169   0.281    0.793      0.036    0.026      20.0   \n",
       "\n",
       "               ess_tail  r_hat  \n",
       "intercept          22.0   1.11  \n",
       "beta_sex           22.0   1.23  \n",
       "beta_educatie      22.0   1.01  "
      ],
      "text/html": [
       "<div>\n",
       "<style scoped>\n",
       "    .dataframe tbody tr th:only-of-type {\n",
       "        vertical-align: middle;\n",
       "    }\n",
       "\n",
       "    .dataframe tbody tr th {\n",
       "        vertical-align: top;\n",
       "    }\n",
       "\n",
       "    .dataframe thead th {\n",
       "        text-align: right;\n",
       "    }\n",
       "</style>\n",
       "<table border=\"1\" class=\"dataframe\">\n",
       "  <thead>\n",
       "    <tr style=\"text-align: right;\">\n",
       "      <th></th>\n",
       "      <th>mean</th>\n",
       "      <th>sd</th>\n",
       "      <th>hdi_3%</th>\n",
       "      <th>hdi_97%</th>\n",
       "      <th>mcse_mean</th>\n",
       "      <th>mcse_sd</th>\n",
       "      <th>ess_bulk</th>\n",
       "      <th>ess_tail</th>\n",
       "      <th>r_hat</th>\n",
       "    </tr>\n",
       "  </thead>\n",
       "  <tbody>\n",
       "    <tr>\n",
       "      <th>intercept</th>\n",
       "      <td>1.377</td>\n",
       "      <td>0.137</td>\n",
       "      <td>1.168</td>\n",
       "      <td>1.577</td>\n",
       "      <td>0.034</td>\n",
       "      <td>0.025</td>\n",
       "      <td>16.0</td>\n",
       "      <td>22.0</td>\n",
       "      <td>1.11</td>\n",
       "    </tr>\n",
       "    <tr>\n",
       "      <th>beta_sex</th>\n",
       "      <td>-0.926</td>\n",
       "      <td>0.122</td>\n",
       "      <td>-1.140</td>\n",
       "      <td>-0.775</td>\n",
       "      <td>0.025</td>\n",
       "      <td>0.018</td>\n",
       "      <td>24.0</td>\n",
       "      <td>22.0</td>\n",
       "      <td>1.23</td>\n",
       "    </tr>\n",
       "    <tr>\n",
       "      <th>beta_educatie</th>\n",
       "      <td>0.562</td>\n",
       "      <td>0.169</td>\n",
       "      <td>0.281</td>\n",
       "      <td>0.793</td>\n",
       "      <td>0.036</td>\n",
       "      <td>0.026</td>\n",
       "      <td>20.0</td>\n",
       "      <td>22.0</td>\n",
       "      <td>1.01</td>\n",
       "    </tr>\n",
       "  </tbody>\n",
       "</table>\n",
       "</div>"
      ]
     },
     "metadata": {},
     "output_type": "display_data"
    }
   ],
   "execution_count": 10
  },
  {
   "metadata": {
    "ExecuteTime": {
     "end_time": "2025-02-17T13:36:03.710026700Z",
     "start_time": "2025-02-17T13:32:41.263506Z"
    }
   },
   "cell_type": "code",
   "source": [
    "# COMPARE MODELS USING WAIC AND LOO\n",
    "comparison_waic = az.compare(\n",
    "    {\"full_model\": idata_full, \"two_vars_model\": idata_two},\n",
    "    method=\"BB-pseudo-BMA\",\n",
    "    ic=\"waic\",\n",
    "    scale=\"deviance\"\n",
    ")\n",
    "print(\"WAIC Comparison:\\n\", comparison_waic)\n",
    "\n",
    "comparison_loo = az.compare(\n",
    "    {\"full_model\": idata_full, \"two_vars_model\": idata_two},\n",
    "    method=\"BB-pseudo-BMA\",\n",
    "    ic=\"loo\",\n",
    "    scale=\"deviance\"\n",
    ")\n",
    "print(\"\\nLOO Comparison:\\n\", comparison_loo)\n",
    "\n",
    "# PLOT COMPARISON\n",
    "az.plot_compare(comparison_waic)\n",
    "plt.title(\"Model comparison - WAIC (lower is better)\")\n",
    "plt.show()\n",
    "\n",
    "az.plot_compare(comparison_loo)\n",
    "plt.title(\"Model comparison - LOO (lower is better)\")\n",
    "plt.show()\n"
   ],
   "id": "5b49f7cdb24050ad",
   "outputs": [
    {
     "name": "stderr",
     "output_type": "stream",
     "text": [
      "C:\\Users\\Victus\\PycharmProjects\\PMP-2024\\.venv1\\lib\\site-packages\\arviz\\stats\\stats.py:1653: UserWarning: For one or more samples the posterior variance of the log predictive densities exceeds 0.4. This could be indication of WAIC starting to fail. \n",
      "See http://arxiv.org/abs/1507.04544 for details\n",
      "  warnings.warn(\n",
      "C:\\Users\\Victus\\PycharmProjects\\PMP-2024\\.venv1\\lib\\site-packages\\arviz\\stats\\stats.py:795: UserWarning: Estimated shape parameter of Pareto distribution is greater than 0.23 for one or more samples. You should consider using a more robust model, this is because importance sampling is less likely to work well if the marginal posterior and LOO posterior are very different. This is more likely to happen with a non-robust model and highly influential observations.\n",
      "  warnings.warn(\n",
      "C:\\Users\\Victus\\PycharmProjects\\PMP-2024\\.venv1\\lib\\site-packages\\arviz\\stats\\stats.py:795: UserWarning: Estimated shape parameter of Pareto distribution is greater than 0.23 for one or more samples. You should consider using a more robust model, this is because importance sampling is less likely to work well if the marginal posterior and LOO posterior are very different. This is more likely to happen with a non-robust model and highly influential observations.\n",
      "  warnings.warn(\n"
     ]
    },
    {
     "name": "stdout",
     "output_type": "stream",
     "text": [
      "WAIC Comparison:\n",
      "                 rank   elpd_waic      p_waic   elpd_diff        weight  \\\n",
      "two_vars_model     0  484.478599    2.413807    0.000000  1.000000e+00   \n",
      "full_model         1  757.183921  107.303346  272.705322  1.188826e-44   \n",
      "\n",
      "                       se        dse  warning     scale  \n",
      "two_vars_model  25.012104   0.000000    False  deviance  \n",
      "full_model      48.771585  35.245828     True  deviance  \n",
      "\n",
      "LOO Comparison:\n",
      "                 rank    elpd_loo      p_loo   elpd_diff        weight  \\\n",
      "two_vars_model     0  484.470502   2.409758    0.000000  1.000000e+00   \n",
      "full_model         1  732.194088  94.808430  247.723586  1.051137e-38   \n",
      "\n",
      "                       se        dse  warning     scale  \n",
      "two_vars_model  26.654084   0.000000     True  deviance  \n",
      "full_model      45.866501  30.063587     True  deviance  \n"
     ]
    },
    {
     "data": {
      "text/plain": [
       "<Figure size 600x200 with 1 Axes>"
      ],
      "image/png": "[encoded data removed]"
     },
     "metadata": {},
     "output_type": "display_data"
    },
    {
     "data": {
      "text/plain": [
       "<Figure size 600x200 with 1 Axes>"
      ],
      "image/png": "[encoded data removed]"
     },
     "metadata": {},
     "output_type": "display_data"
    }
   ],
   "execution_count": 12
  }
 ],
 "metadata": {
  "kernelspec": {
   "display_name": "Python 3",
   "language": "python",
   "name": "python3"
  },
  "language_info": {
   "codemirror_mode": {
    "name": "ipython",
    "version": 2
   },
   "file_extension": ".py",
   "mimetype": "text/x-python",
   "name": "python",
   "nbconvert_exporter": "python",
   "pygments_lexer": "ipython2",
   "version": "2.7.6"
  }
 },
 "nbformat": 4,
 "nbformat_minor": 5
}
