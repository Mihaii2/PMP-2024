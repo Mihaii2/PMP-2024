{
 "cells": [
  {
   "cell_type": "code",
   "id": "initial_id",
   "metadata": {
    "collapsed": true,
    "ExecuteTime": {
     "end_time": "2025-01-21T13:49:10.805292Z",
     "start_time": "2025-01-21T13:47:51.486074Z"
    }
   },
   "source": [
    "import pandas as pd\n",
    "import numpy as np\n",
    "import pymc as pm\n",
    "import arviz as az\n",
    "\n",
    "# Read the data with error handling\n",
    "data = pd.read_csv('BostonHousing.csv', na_values=[''], on_bad_lines='skip')\n",
    "\n",
    "# Drop any rows with missing values\n",
    "data = data.dropna()\n",
    "\n",
    "# Standardize the predictors\n",
    "X = data[['rm', 'crim', 'indus']]\n",
    "X_standardized = (X - X.mean()) / X.std()\n",
    "y = data['medv']\n",
    "\n",
    "# Create and fit the PyMC model\n",
    "with pm.Model() as model:\n",
    "    # Priors for unknown model parameters\n",
    "    intercept = pm.Normal('intercept', mu=0, sigma=10)\n",
    "    betas = pm.Normal('betas', mu=0, sigma=2, shape=3, dims='predictors')\n",
    "    sigma = pm.HalfNormal('sigma', sigma=1)\n",
    "\n",
    "    # Expected value of outcome\n",
    "    mu = intercept + pm.math.dot(X_standardized, betas)\n",
    "\n",
    "    # Likelihood (sampling distribution) of observations\n",
    "    Y_obs = pm.Normal('Y_obs', mu=mu, sigma=sigma, observed=y)\n",
    "\n",
    "    # Inference\n",
    "    trace = pm.sample(2000, tune=2000, return_inferencedata=True, target_accept=0.95)\n",
    "\n",
    "# Print summary of the model parameters\n",
    "summary = az.summary(trace, var_names=['intercept', 'betas', 'sigma'])\n",
    "print(\"\\nModel Parameter Summary:\")\n",
    "print(summary)\n",
    "\n",
    "# Calculate 95% HDI for parameters\n",
    "hdi = az.hdi(trace, hdi_prob=0.95)\n",
    "print(\"\\n95% HDI for parameters:\")\n",
    "print(hdi)\n",
    "\n",
    "# Get the variable importance by looking at the absolute values of the standardized coefficients\n",
    "var_importance = pd.DataFrame({\n",
    "    'Variable': ['rm', 'crim', 'indus'],\n",
    "    'Mean Effect': az.summary(trace, var_names=['betas'])['mean'].values\n",
    "})\n",
    "var_importance['Abs Effect'] = abs(var_importance['Mean Effect'])\n",
    "var_importance = var_importance.sort_values('Abs Effect', ascending=False)\n",
    "print(\"\\nVariable Importance:\")\n",
    "print(var_importance)\n",
    "\n",
    "# Posterior predictive simulation\n",
    "with model:\n",
    "    post_pred = pm.sample_posterior_predictive(trace)\n",
    "\n",
    "# Calculate 50% prediction interval\n",
    "y_pred = post_pred.posterior_predictive.Y_obs\n",
    "pred_intervals = np.percentile(y_pred, [25, 75], axis=1)\n",
    "print(\"\\n50% Prediction Interval:\")\n",
    "print(\"Lower bound (25th percentile):\", pred_intervals[0].mean())\n",
    "print(\"Upper bound (75th percentile):\", pred_intervals[1].mean())"
   ],
   "outputs": [
    {
     "name": "stderr",
     "output_type": "stream",
     "text": [
      "Auto-assigning NUTS sampler...\n",
      "Initializing NUTS using jitter+adapt_diag...\n",
      "Multiprocess sampling (4 chains in 4 jobs)\n",
      "NUTS: [intercept, betas, sigma]\n"
     ]
    },
    {
     "data": {
      "text/plain": [
       "Output()"
      ],
      "application/vnd.jupyter.widget-view+json": {
       "version_major": 2,
       "version_minor": 0,
       "model_id": "185a74cbbbb849d59393d0286b29a606"
      }
     },
     "metadata": {},
     "output_type": "display_data"
    },
    {
     "data": {
      "text/plain": [],
      "text/html": [
       "<pre style=\"white-space:pre;overflow-x:auto;line-height:normal;font-family:Menlo,'DejaVu Sans Mono',consolas,'Courier New',monospace\"></pre>\n"
      ]
     },
     "metadata": {},
     "output_type": "display_data"
    },
    {
     "data": {
      "text/plain": [
       "\n"
      ],
      "text/html": [
       "<pre style=\"white-space:pre;overflow-x:auto;line-height:normal;font-family:Menlo,'DejaVu Sans Mono',consolas,'Courier New',monospace\">\n",
       "</pre>\n"
      ]
     },
     "metadata": {},
     "output_type": "display_data"
    },
    {
     "name": "stderr",
     "output_type": "stream",
     "text": [
      "Sampling 4 chains for 2_000 tune and 2_000 draw iterations (8_000 + 8_000 draws total) took 45 seconds.\n"
     ]
    },
    {
     "name": "stdout",
     "output_type": "stream",
     "text": [
      "\n",
      "Model Parameter Summary:\n",
      "             mean     sd  hdi_3%  hdi_97%  mcse_mean  mcse_sd  ess_bulk  \\\n",
      "intercept  22.525  0.260  22.035   23.007      0.002    0.002   12118.0   \n",
      "betas[0]    5.286  0.286   4.749    5.828      0.003    0.002    9428.0   \n",
      "betas[1]   -1.716  0.289  -2.262   -1.182      0.003    0.002    8457.0   \n",
      "betas[2]   -1.659  0.305  -2.242   -1.093      0.004    0.003    7430.0   \n",
      "sigma       5.905  0.177   5.584    6.242      0.002    0.001    8872.0   \n",
      "\n",
      "           ess_tail  r_hat  \n",
      "intercept    6224.0    1.0  \n",
      "betas[0]     5996.0    1.0  \n",
      "betas[1]     6302.0    1.0  \n",
      "betas[2]     6199.0    1.0  \n",
      "sigma        6220.0    1.0  \n",
      "\n",
      "95% HDI for parameters:\n",
      "<xarray.Dataset>\n",
      "Dimensions:     (hdi: 2, predictors: 3)\n",
      "Coordinates:\n",
      "  * predictors  (predictors) int32 0 1 2\n",
      "  * hdi         (hdi) <U6 'lower' 'higher'\n",
      "Data variables:\n",
      "    intercept   (hdi) float64 22.01 23.02\n",
      "    betas       (predictors, hdi) float64 4.705 5.828 -2.271 ... -2.276 -1.081\n",
      "    sigma       (hdi) float64 5.57 6.255\n",
      "\n",
      "Variable Importance:\n",
      "  Variable  Mean Effect  Abs Effect\n",
      "0       rm        5.286       5.286\n",
      "1     crim       -1.716       1.716\n",
      "2    indus       -1.659       1.659\n"
     ]
    },
    {
     "name": "stderr",
     "output_type": "stream",
     "text": [
      "Sampling: [Y_obs]\n"
     ]
    },
    {
     "data": {
      "text/plain": [
       "Output()"
      ],
      "application/vnd.jupyter.widget-view+json": {
       "version_major": 2,
       "version_minor": 0,
       "model_id": "9f0e5d812c874c078c3424cbbb8bf3ef"
      }
     },
     "metadata": {},
     "output_type": "display_data"
    },
    {
     "data": {
      "text/plain": [],
      "text/html": [
       "<pre style=\"white-space:pre;overflow-x:auto;line-height:normal;font-family:Menlo,'DejaVu Sans Mono',consolas,'Courier New',monospace\"></pre>\n"
      ]
     },
     "metadata": {},
     "output_type": "display_data"
    },
    {
     "data": {
      "text/plain": [
       "\n"
      ],
      "text/html": [
       "<pre style=\"white-space:pre;overflow-x:auto;line-height:normal;font-family:Menlo,'DejaVu Sans Mono',consolas,'Courier New',monospace\">\n",
       "</pre>\n"
      ]
     },
     "metadata": {},
     "output_type": "display_data"
    },
    {
     "name": "stdout",
     "output_type": "stream",
     "text": [
      "\n",
      "50% Prediction Interval:\n",
      "Lower bound (25th percentile): 18.530485274084125\n",
      "Upper bound (75th percentile): 26.52247048406406\n"
     ]
    }
   ],
   "execution_count": 3
  }
 ],
 "metadata": {
  "kernelspec": {
   "display_name": "Python 3",
   "language": "python",
   "name": "python3"
  },
  "language_info": {
   "codemirror_mode": {
    "name": "ipython",
    "version": 2
   },
   "file_extension": ".py",
   "mimetype": "text/x-python",
   "name": "python",
   "nbconvert_exporter": "python",
   "pygments_lexer": "ipython2",
   "version": "2.7.6"
  }
 },
 "nbformat": 4,
 "nbformat_minor": 5
}
