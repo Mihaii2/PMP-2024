{
 "cells": [
  {
   "metadata": {
    "ExecuteTime": {
     "end_time": "2025-02-17T12:49:25.728384Z",
     "start_time": "2025-02-17T12:49:25.716145Z"
    }
   },
   "cell_type": "code",
   "source": [
    "import numpy as np\n",
    "import pandas as pd\n",
    "import matplotlib.pyplot as plt\n",
    "from hmmlearn import hmm\n",
    "\n",
    "# 1. Basic parameters and color setup\n",
    "dimensiune_grid = (10, 10)  # 10x10 grid\n",
    "culori = [\n",
    "    \"red\", \"blue\", \"green\", \"yellow\",\n",
    "    \"purple\", \"orange\", \"pink\", \"cyan\",\n",
    "    \"brown\", \"lime\"\n",
    "]\n",
    "\n",
    "# Observed color sequence\n",
    "observatii = ['red', 'red', 'lime', 'yellow', 'blue']\n",
    "\n",
    "# We'll create two dictionaries to map color <-> index\n",
    "culoare_to_idx = {c: i for i, c in enumerate(culori)}\n",
    "idx_to_culoare = {i: c for c, i in culoare_to_idx.items()}\n",
    "\n",
    "# Convert the observations (string colors) into indices\n",
    "observatii_idx = np.array([culoare_to_idx[c] for c in observatii]).reshape(-1, 1)\n",
    "print(\"Observations (as indices):\", observatii_idx.flatten())\n"
   ],
   "id": "907fb3838696a147",
   "outputs": [
    {
     "name": "stdout",
     "output_type": "stream",
     "text": [
      "Observations (as indices): [0 0 9 3 1]\n"
     ]
    }
   ],
   "execution_count": 23
  },
  {
   "metadata": {
    "ExecuteTime": {
     "end_time": "2025-02-17T12:49:31.986281Z",
     "start_time": "2025-02-17T12:49:31.978372Z"
    }
   },
   "cell_type": "code",
   "source": [
    "# 2. Read the grid of colors from CSV\n",
    "df = pd.read_csv('grid_culori.csv', header=None)  # adjust 'header=None' if needed\n",
    "grid_culori = df.to_numpy()  # This will be a 10x10 array of color names\n",
    "\n",
    "# Just to confirm the shape and check a few entries:\n",
    "print(\"Shape of grid_culori:\", grid_culori.shape)\n",
    "print(grid_culori[0, :5])  # First row, first 5 columns\n"
   ],
   "id": "ca71e7ad9f4f0357",
   "outputs": [
    {
     "name": "stdout",
     "output_type": "stream",
     "text": [
      "Shape of grid_culori: (10, 10)\n",
      "['green' 'red' 'purple' 'brown' 'blue']\n"
     ]
    }
   ],
   "execution_count": 24
  },
  {
   "metadata": {
    "ExecuteTime": {
     "end_time": "2025-02-17T12:49:36.631266Z",
     "start_time": "2025-02-17T12:49:36.617454Z"
    }
   },
   "cell_type": "code",
   "source": [
    "# 3. Create all possible states (i, j) for i in [0..9], j in [0..9]\n",
    "stari_ascunse = [(i, j) for i in range(dimensiune_grid[0])\n",
    "                         for j in range(dimensiune_grid[1])]\n",
    "\n",
    "numar_stari = len(stari_ascunse)  # should be 100\n",
    "print(\"Number of states:\", numar_stari)\n",
    "\n",
    "# Build dictionaries to map (i, j) <-> state index\n",
    "stare_to_idx = {stare: idx for idx, stare in enumerate(stari_ascunse)}\n",
    "idx_to_stare = {idx: stare for stare, idx in stare_to_idx.items()}\n"
   ],
   "id": "cb8821fcdda65218",
   "outputs": [
    {
     "name": "stdout",
     "output_type": "stream",
     "text": [
      "Number of states: 100\n"
     ]
    }
   ],
   "execution_count": 25
  },
  {
   "metadata": {
    "ExecuteTime": {
     "end_time": "2025-02-17T12:49:42.054063Z",
     "start_time": "2025-02-17T12:49:42.041390Z"
    }
   },
   "cell_type": "code",
   "source": [
    "def build_transition_matrix_remain_in_place(dim=(10,10), p_stay=0.25):\n",
    "    \"\"\"\n",
    "    Returns the transition matrix for the specified grid size, where\n",
    "    each cell has probability p_stay of remaining in place,\n",
    "    and the rest is evenly distributed among its valid neighbors.\n",
    "    \"\"\"\n",
    "    N = dim[0] * dim[1]  # total states\n",
    "    trans = np.zeros((N, N))\n",
    "\n",
    "    for i in range(dim[0]):\n",
    "        for j in range(dim[1]):\n",
    "            current_state = stare_to_idx[(i, j)]\n",
    "\n",
    "            # Potential neighbors (up, down, left, right)\n",
    "            neighbors = []\n",
    "            if i - 1 >= 0:\n",
    "                neighbors.append((i - 1, j))\n",
    "            if i + 1 < dim[0]:\n",
    "                neighbors.append((i + 1, j))\n",
    "            if j - 1 >= 0:\n",
    "                neighbors.append((i, j - 1))\n",
    "            if j + 1 < dim[1]:\n",
    "                neighbors.append((i, j + 1))\n",
    "\n",
    "            num_neighbors = len(neighbors)\n",
    "\n",
    "            # Probability to stay in place\n",
    "            trans[current_state, current_state] = p_stay\n",
    "\n",
    "            # Probability distributed among neighbors\n",
    "            if num_neighbors > 0:\n",
    "                move_prob = (1.0 - p_stay) / num_neighbors\n",
    "                for nb in neighbors:\n",
    "                    nb_state = stare_to_idx[nb]\n",
    "                    trans[current_state, nb_state] = move_prob\n",
    "\n",
    "    return trans\n",
    "\n",
    "# Build the matrix with 25% remain in place\n",
    "trans_mat_remain = build_transition_matrix_remain_in_place(dimensiune_grid, p_stay=0.25)\n",
    "print(\"Transition matrix shape:\", trans_mat_remain.shape)\n"
   ],
   "id": "db159a7f9e69f6a4",
   "outputs": [
    {
     "name": "stdout",
     "output_type": "stream",
     "text": [
      "Transition matrix shape: (100, 100)\n"
     ]
    }
   ],
   "execution_count": 26
  },
  {
   "metadata": {
    "ExecuteTime": {
     "end_time": "2025-02-17T12:49:49.757648Z",
     "start_time": "2025-02-17T12:49:49.751817Z"
    }
   },
   "cell_type": "code",
   "source": [
    "def build_emission_matrix(grid, colors):\n",
    "    \"\"\"\n",
    "    grid: 10x10 array of color names (strings)\n",
    "    colors: list of all possible color names in order\n",
    "    Returns emission probability matrix of shape [num_states, num_observations].\n",
    "    \"\"\"\n",
    "    N = grid.shape[0] * grid.shape[1]  # total states = 100\n",
    "    M = len(colors)                    # number of possible color observations\n",
    "    emission = np.zeros((N, M))\n",
    "\n",
    "    for i in range(grid.shape[0]):\n",
    "        for j in range(grid.shape[1]):\n",
    "            state_idx = stare_to_idx[(i, j)]\n",
    "            color_name = grid[i, j]\n",
    "            color_idx = culoare_to_idx[color_name]\n",
    "            # Probability 1 for the color in this cell, 0 for others\n",
    "            emission[state_idx, color_idx] = 1.0\n",
    "\n",
    "    return emission\n",
    "\n",
    "emission_mat = build_emission_matrix(grid_culori, culori)\n",
    "print(\"Emission matrix shape:\", emission_mat.shape)\n"
   ],
   "id": "bfc25e24d7914808",
   "outputs": [
    {
     "name": "stdout",
     "output_type": "stream",
     "text": [
      "Emission matrix shape: (100, 10)\n"
     ]
    }
   ],
   "execution_count": 27
  },
  {
   "metadata": {
    "ExecuteTime": {
     "end_time": "2025-02-17T12:49:59.496116Z",
     "start_time": "2025-02-17T12:49:59.479102Z"
    }
   },
   "cell_type": "code",
   "source": [
    "# Number of hidden states\n",
    "n_states = numar_stari\n",
    "# Number of possible observation symbols\n",
    "n_observations = len(culori)\n",
    "\n",
    "# Create the model\n",
    "model_remain = hmm.CategoricalHMM(n_components=n_states, init_params=\"\", n_iter=1)\n",
    "\n",
    "# Start probabilities (uniform, since the agent is placed randomly)\n",
    "model_remain.startprob_ = np.full(n_states, 1.0 / n_states)\n",
    "\n",
    "# Transition probabilities\n",
    "model_remain.transmat_ = trans_mat_remain\n",
    "\n",
    "# Emission probabilities\n",
    "model_remain.emissionprob_ = emission_mat\n",
    "\n",
    "# Use the Viterbi algorithm to decode the most likely state sequence\n",
    "logprob, state_sequence = model_remain.decode(observatii_idx, algorithm=\"viterbi\")\n",
    "\n",
    "# Convert log probability to actual probability\n",
    "path_probability = np.exp(logprob)\n",
    "\n",
    "print(\"Most likely state sequence (indices):\", state_sequence)\n",
    "print(\"Log Probability of this sequence:\", logprob)\n",
    "print(\"Probability of this sequence:\", path_probability)\n",
    "\n",
    "# If you want to see the (i, j) positions:\n",
    "drum = [idx_to_stare[idx] for idx in state_sequence]\n",
    "print(\"Most likely path (row, col):\", drum)\n"
   ],
   "id": "e9765826751d6109",
   "outputs": [
    {
     "name": "stdout",
     "output_type": "stream",
     "text": [
      "Most likely state sequence (indices): [70 70 71 72 82]\n",
      "Log Probability of this sequence: -10.725711775371217\n",
      "Probability of this sequence: 2.1972656249999982e-05\n",
      "Most likely path (row, col): [(7, 0), (7, 0), (7, 1), (7, 2), (8, 2)]\n"
     ]
    }
   ],
   "execution_count": 28
  },
  {
   "metadata": {
    "ExecuteTime": {
     "end_time": "2025-02-17T12:50:06.747056Z",
     "start_time": "2025-02-17T12:50:06.578815Z"
    }
   },
   "cell_type": "code",
   "source": [
    "fig, ax = plt.subplots(figsize=(6, 6))\n",
    "\n",
    "# Draw the colored grid\n",
    "for i in range(dimensiune_grid[0]):\n",
    "    for j in range(dimensiune_grid[1]):\n",
    "        cell_color = grid_culori[i, j]\n",
    "        ax.add_patch(plt.Rectangle((j, dimensiune_grid[0] - i - 1), 1, 1, color=cell_color))\n",
    "\n",
    "# Overlay the path\n",
    "for idx, (row, col) in enumerate(drum):\n",
    "    # Mark the center of each cell\n",
    "    x = col + 0.5\n",
    "    y = dimensiune_grid[0] - row - 0.5\n",
    "    ax.add_patch(plt.Circle((x, y), 0.3, color=\"black\", alpha=0.5))\n",
    "    ax.text(x, y, str(idx + 1), color=\"white\", ha=\"center\", va=\"center\", fontsize=10)\n",
    "\n",
    "ax.set_xlim(0, dimensiune_grid[1])\n",
    "ax.set_ylim(0, dimensiune_grid[0])\n",
    "ax.set_aspect(\"equal\")\n",
    "ax.axis(\"off\")\n",
    "plt.title(\"Most Likely Path (Including Remain-in-Place)\")\n",
    "plt.show()\n"
   ],
   "id": "2629c0421f798891",
   "outputs": [
    {
     "data": {
      "text/plain": [
       "<Figure size 600x600 with 1 Axes>"
      ],
      "image/png": "[encoded data removed]"
     },
     "metadata": {},
     "output_type": "display_data"
    }
   ],
   "execution_count": 29
  }
 ],
 "metadata": {
  "kernelspec": {
   "display_name": "Python 3",
   "language": "python",
   "name": "python3"
  },
  "language_info": {
   "codemirror_mode": {
    "name": "ipython",
    "version": 2
   },
   "file_extension": ".py",
   "mimetype": "text/x-python",
   "name": "python",
   "nbconvert_exporter": "python",
   "pygments_lexer": "ipython2",
   "version": "2.7.6"
  }
 },
 "nbformat": 4,
 "nbformat_minor": 5
}
