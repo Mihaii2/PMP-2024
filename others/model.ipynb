{
 "cells": [
  {
   "metadata": {
    "ExecuteTime": {
     "end_time": "2025-01-30T22:54:06.636055Z",
     "start_time": "2025-01-30T22:52:58.995340Z"
    }
   },
   "cell_type": "code",
   "source": [
    "import pandas as pd\n",
    "import pymc as pm\n",
    "import arviz as az\n",
    "import numpy as np\n",
    "import xarray as xr\n",
    "\n",
    "# Load the Iris dataset\n",
    "data = pd.read_csv('iris.csv')\n",
    "features = ['sepal_length', 'sepal_width', 'petal_length', 'petal_width']\n",
    "\n",
    "# Dictionary to store WAIC results\n",
    "waic_results = {}\n",
    "\n",
    "for feature in features:\n",
    "    print(f\"\\n=== Analyzing feature: {feature} ===\")\n",
    "    X = data[feature].values\n",
    "    \n",
    "    with pm.Model() as model:\n",
    "        # Cluster weights (Dirichlet prior)\n",
    "        weights = pm.Dirichlet('weights', a=[1, 1, 1])\n",
    "        \n",
    "        # Cluster means (Normal prior)\n",
    "        means = pm.Normal('means', mu=X.mean(), sigma=10, shape=3)\n",
    "        \n",
    "        # Cluster standard deviations (HalfNormal prior)\n",
    "        stds = pm.HalfNormal('stds', sigma=X.std(), shape=3)\n",
    "        \n",
    "        # Gaussian Mixture Model\n",
    "        likelihood = pm.NormalMixture(\n",
    "            'obs',  # This is our likelihood variable\n",
    "            w=weights,\n",
    "            mu=means,\n",
    "            sigma=stds,\n",
    "            observed=X\n",
    "        )\n",
    "        \n",
    "        # Sample\n",
    "        trace = pm.sample(\n",
    "            tune=10, \n",
    "            draws=10, \n",
    "            chains=1, \n",
    "            progressbar=False, \n",
    "            random_seed=42\n",
    "        )\n",
    "    \n",
    "    print(f\"\\nModel summary for {feature}:\")\n",
    "    print(az.summary(trace, kind=\"stats\"))\n",
    "    \n",
    "    # Compute log likelihood for each posterior sample\n",
    "    log_likelihood = []\n",
    "    for draw in range(trace.posterior.sizes[\"draw\"]):\n",
    "        # Extract posterior samples for this draw\n",
    "        weights_sample = trace.posterior[\"weights\"].sel(draw=draw).values\n",
    "        means_sample = trace.posterior[\"means\"].sel(draw=draw).values\n",
    "        stds_sample = trace.posterior[\"stds\"].sel(draw=draw).values\n",
    "        \n",
    "        # Compute log likelihood for this draw\n",
    "        log_likelihood_draw = []\n",
    "        for i in range(len(X)):\n",
    "            # Compute the log likelihood for each observation\n",
    "            log_likelihood_draw.append(\n",
    "                np.log(np.sum(weights_sample * np.exp(-0.5 * ((X[i] - means_sample) / stds_sample)**2) / (stds_sample * np.sqrt(2 * np.pi))))\n",
    "            )\n",
    "        log_likelihood.append(log_likelihood_draw)\n",
    "    \n",
    "    # Stack log likelihood into an array with shape (chain, draw, obs)\n",
    "    log_likelihood = np.stack(log_likelihood)  # Shape: (draw, obs)\n",
    "    log_likelihood = log_likelihood[np.newaxis, :, :]  # Add chain dimension\n",
    "    \n",
    "    # Add log likelihood to trace with explicit dimensions\n",
    "    trace.sample_stats[\"log_likelihood\"] = xr.DataArray(\n",
    "        log_likelihood,\n",
    "        dims=[\"chain\", \"draw\", \"obs\"],\n",
    "        coords={\n",
    "            \"chain\": trace.posterior.coords[\"chain\"],\n",
    "            \"draw\": trace.posterior.coords[\"draw\"],\n",
    "            \"obs\": np.arange(len(X))\n",
    "        }\n",
    "    )\n",
    "    \n",
    "    # Calculate WAIC\n",
    "    waic = az.waic(trace)\n",
    "    waic_results[feature] = waic.elpd_waic  # Use the correct attribute\n",
    "    print(f\"\\nWAIC for {feature}: {waic.elpd_waic:.2f}\")\n",
    "\n",
    "# Identify the best separating feature\n",
    "best_feature = min(waic_results, key=lambda k: waic_results[k])\n",
    "print(f\"\\nBest separating feature: '{best_feature}' (WAIC: {waic_results[best_feature]:.2f})\")"
   ],
   "id": "907fb3838696a147",
   "outputs": [
    {
     "name": "stdout",
     "output_type": "stream",
     "text": [
      "\n",
      "=== Analyzing feature: sepal_length ===\n"
     ]
    },
    {
     "name": "stderr",
     "output_type": "stream",
     "text": [
      "Only 10 samples per chain. Reliable r-hat and ESS diagnostics require longer chains for accurate estimate.\n",
      "Auto-assigning NUTS sampler...\n",
      "Initializing NUTS using jitter+adapt_diag...\n",
      "Sequential sampling (1 chains in 1 job)\n",
      "NUTS: [weights, means, stds]\n",
      "Sampling 1 chain for 10 tune and 10 draw iterations (10 + 10 draws total) took 1 seconds.\n",
      "The number of samples is too small to check convergence reliably.\n",
      "Only 10 samples per chain. Reliable r-hat and ESS diagnostics require longer chains for accurate estimate.\n"
     ]
    },
    {
     "name": "stdout",
     "output_type": "stream",
     "text": [
      "\n",
      "Model summary for sepal_length:\n",
      "             mean     sd  hdi_3%  hdi_97%\n",
      "means[0]    6.165  0.071   6.051    6.267\n",
      "means[1]    5.295  0.777   4.302    6.191\n",
      "means[2]    5.062  0.286   4.843    5.798\n",
      "weights[0]  0.632  0.185   0.164    0.869\n",
      "weights[1]  0.166  0.182   0.006    0.598\n",
      "weights[2]  0.202  0.089   0.047    0.299\n",
      "stds[0]     0.759  0.143   0.626    1.110\n",
      "stds[1]     0.581  0.505   0.082    1.666\n",
      "stds[2]     0.368  0.089   0.248    0.558\n",
      "\n",
      "WAIC for sepal_length: -182.74\n",
      "\n",
      "=== Analyzing feature: sepal_width ===\n"
     ]
    },
    {
     "name": "stderr",
     "output_type": "stream",
     "text": [
      "Auto-assigning NUTS sampler...\n",
      "Initializing NUTS using jitter+adapt_diag...\n",
      "Sequential sampling (1 chains in 1 job)\n",
      "NUTS: [weights, means, stds]\n",
      "Sampling 1 chain for 10 tune and 10 draw iterations (10 + 10 draws total) took 1 seconds.\n",
      "The number of samples is too small to check convergence reliably.\n",
      "C:\\Users\\mihai\\anaconda3\\Lib\\site-packages\\arviz\\stats\\stats.py:1653: UserWarning: For one or more samples the posterior variance of the log predictive densities exceeds 0.4. This could be indication of WAIC starting to fail. \n",
      "See http://arxiv.org/abs/1507.04544 for details\n",
      "  warnings.warn(\n",
      "Only 10 samples per chain. Reliable r-hat and ESS diagnostics require longer chains for accurate estimate.\n"
     ]
    },
    {
     "name": "stdout",
     "output_type": "stream",
     "text": [
      "\n",
      "Model summary for sepal_width:\n",
      "             mean     sd  hdi_3%  hdi_97%\n",
      "means[0]    2.987  0.371   2.510    3.821\n",
      "means[1]    2.967  0.057   2.907    3.089\n",
      "means[2]    3.144  0.265   2.641    3.497\n",
      "weights[0]  0.443  0.261   0.039    0.729\n",
      "weights[1]  0.160  0.127   0.056    0.397\n",
      "weights[2]  0.397  0.258   0.096    0.906\n",
      "stds[0]     0.396  0.139   0.157    0.545\n",
      "stds[1]     0.128  0.068   0.059    0.226\n",
      "stds[2]     0.385  0.046   0.299    0.452\n",
      "\n",
      "WAIC for sepal_width: -89.17\n",
      "\n",
      "=== Analyzing feature: petal_length ===\n"
     ]
    },
    {
     "name": "stderr",
     "output_type": "stream",
     "text": [
      "Auto-assigning NUTS sampler...\n",
      "Initializing NUTS using jitter+adapt_diag...\n",
      "Sequential sampling (1 chains in 1 job)\n",
      "NUTS: [weights, means, stds]\n",
      "Sampling 1 chain for 10 tune and 10 draw iterations (10 + 10 draws total) took 1 seconds.\n",
      "The number of samples is too small to check convergence reliably.\n",
      "C:\\Users\\mihai\\anaconda3\\Lib\\site-packages\\arviz\\stats\\stats.py:1653: UserWarning: For one or more samples the posterior variance of the log predictive densities exceeds 0.4. This could be indication of WAIC starting to fail. \n",
      "See http://arxiv.org/abs/1507.04544 for details\n",
      "  warnings.warn(\n",
      "Only 10 samples per chain. Reliable r-hat and ESS diagnostics require longer chains for accurate estimate.\n"
     ]
    },
    {
     "name": "stdout",
     "output_type": "stream",
     "text": [
      "\n",
      "Model summary for petal_length:\n",
      "             mean     sd  hdi_3%  hdi_97%\n",
      "means[0]    1.463  0.022   1.429    1.489\n",
      "means[1]    5.009  0.373   4.596    5.532\n",
      "means[2]    5.067  0.451   4.482    5.572\n",
      "weights[0]  0.347  0.033   0.313    0.421\n",
      "weights[1]  0.358  0.121   0.164    0.484\n",
      "weights[2]  0.295  0.111   0.180    0.523\n",
      "stds[0]     0.176  0.021   0.144    0.215\n",
      "stds[1]     0.813  0.130   0.660    0.969\n",
      "stds[2]     0.720  0.136   0.590    0.974\n",
      "\n",
      "WAIC for petal_length: -205.79\n",
      "\n",
      "=== Analyzing feature: petal_width ===\n"
     ]
    },
    {
     "name": "stderr",
     "output_type": "stream",
     "text": [
      "Auto-assigning NUTS sampler...\n",
      "Initializing NUTS using jitter+adapt_diag...\n",
      "Sequential sampling (1 chains in 1 job)\n",
      "NUTS: [weights, means, stds]\n",
      "Sampling 1 chain for 10 tune and 10 draw iterations (10 + 10 draws total) took 1 seconds.\n",
      "The number of samples is too small to check convergence reliably.\n"
     ]
    },
    {
     "name": "stdout",
     "output_type": "stream",
     "text": [
      "\n",
      "Model summary for petal_width:\n",
      "             mean     sd  hdi_3%  hdi_97%\n",
      "means[0]   -0.353  0.142  -0.734   -0.227\n",
      "means[1]    0.233  0.016   0.214    0.255\n",
      "means[2]    1.653  0.066   1.523    1.708\n",
      "weights[0]  0.013  0.004   0.004    0.016\n",
      "weights[1]  0.271  0.046   0.234    0.346\n",
      "weights[2]  0.717  0.044   0.645    0.752\n",
      "stds[0]     0.111  0.018   0.079    0.128\n",
      "stds[1]     0.076  0.014   0.069    0.117\n",
      "stds[2]     0.438  0.052   0.384    0.532\n",
      "\n",
      "WAIC for petal_width: -117.44\n",
      "\n",
      "Best separating feature: 'petal_length' (WAIC: -205.79)\n"
     ]
    },
    {
     "name": "stderr",
     "output_type": "stream",
     "text": [
      "C:\\Users\\mihai\\anaconda3\\Lib\\site-packages\\arviz\\stats\\stats.py:1653: UserWarning: For one or more samples the posterior variance of the log predictive densities exceeds 0.4. This could be indication of WAIC starting to fail. \n",
      "See http://arxiv.org/abs/1507.04544 for details\n",
      "  warnings.warn(\n"
     ]
    }
   ],
   "execution_count": 13
  }
 ],
 "metadata": {
  "kernelspec": {
   "display_name": "Python 3",
   "language": "python",
   "name": "python3"
  },
  "language_info": {
   "codemirror_mode": {
    "name": "ipython",
    "version": 2
   },
   "file_extension": ".py",
   "mimetype": "text/x-python",
   "name": "python",
   "nbconvert_exporter": "python",
   "pygments_lexer": "ipython2",
   "version": "2.7.6"
  }
 },
 "nbformat": 4,
 "nbformat_minor": 5
}
