{
 "cells": [
  {
   "cell_type": "code",
   "id": "initial_id",
   "metadata": {
    "collapsed": true,
    "ExecuteTime": {
     "end_time": "2025-02-13T19:12:11.045800Z",
     "start_time": "2025-02-13T19:12:11.032559Z"
    }
   },
   "source": [
    "import numpy as np\n",
    "\n",
    "def viterbi_algorithm(observations, states, start_prob, trans_prob, emit_prob):\n",
    "    \"\"\"\n",
    "    Viterbi algorithm implementation with explicit formula correspondence\n",
    "    \"\"\"\n",
    "    T = len(observations)  # Total number of observations\n",
    "    V = [{}]  # Delta values δₜ(i)\n",
    "    psi = [{}]  # Backpointer values ψₜ(i)\n",
    "    path = {}\n",
    "\n",
    "    # Initialization phase: δ₁(i) = πᵢbᵢ(o₁)\n",
    "    for state in states:\n",
    "        pi_i = start_prob[state]  # πᵢ\n",
    "        b_i_o1 = emit_prob[state][observations[0]]  # bᵢ(o₁)\n",
    "        V[0][state] = pi_i * b_i_o1  # δ₁(i)\n",
    "        path[state] = [state]\n",
    "\n",
    "    # Recursion phase: δₜ(j) = max[δₜ₋₁(i)aᵢⱼ] · bⱼ(oₜ)\n",
    "    for t in range(1, T):\n",
    "        V.append({})\n",
    "        psi.append({})\n",
    "        newpath = {}\n",
    "\n",
    "        for curr_state in states:\n",
    "            # Calculate δₜ(j) and ψₜ(j)\n",
    "            max_prob, best_prev_state = max(\n",
    "                (V[t-1][prev_state]  # δₜ₋₁(i)\n",
    "                 * trans_prob[prev_state][curr_state]  # aᵢⱼ\n",
    "                 * emit_prob[curr_state][observations[t]],  # bⱼ(oₜ)\n",
    "                 prev_state)\n",
    "                for prev_state in states\n",
    "            )\n",
    "\n",
    "            V[t][curr_state] = max_prob  # Store δₜ(j)\n",
    "            psi[t][curr_state] = best_prev_state  # Store ψₜ(j)\n",
    "            newpath[curr_state] = path[best_prev_state] + [curr_state]\n",
    "\n",
    "        path = newpath\n",
    "\n",
    "    # Termination phase: P* = max[δT(i)] and q*T = Argmax[δT(i)]\n",
    "    prob_star, q_star_T = max(\n",
    "        (V[T-1][state], state)\n",
    "        for state in states\n",
    "    )\n",
    "\n",
    "    return path[q_star_T], prob_star  # Return best path and its probability\n",
    "\n",
    "# Define the model parameters\n",
    "states = ['D', 'M', 'E']  # Difficult, Medium, Easy\n",
    "observations = ['FB', 'FB', 'S', 'B', 'B', 'S', 'B', 'B', 'NS', 'B', 'B', 'S']\n",
    "\n",
    "# Starting probabilities (assuming equal probability for each state)\n",
    "start_prob = {\n",
    "    'D': 1/3,\n",
    "    'M': 1/3,\n",
    "    'E': 1/3\n",
    "}\n",
    "\n",
    "# Transition probabilities\n",
    "trans_prob = {\n",
    "    'D': {'D': 1/3, 'M': 1/3, 'E': 1/3},\n",
    "    'M': {'D': 0.5, 'M': 0.25, 'E': 0.25},\n",
    "    'E': {'D': 0.5, 'M': 0.25, 'E': 0.25}\n",
    "}\n",
    "\n",
    "# Emission probabilities\n",
    "emit_prob = {\n",
    "    'D': {'FB': 0.1, 'B': 0.2, 'S': 0.4, 'NS': 0.3},\n",
    "    'M': {'FB': 0.15, 'B': 0.25, 'S': 0.5, 'NS': 0.1},\n",
    "    'E': {'FB': 0.2, 'B': 0.3, 'S': 0.4, 'NS': 0.1}\n",
    "}\n",
    "\n",
    "# Run the Viterbi algorithm\n",
    "most_likely_sequence, probability = viterbi_algorithm(observations, states, start_prob, trans_prob, emit_prob)\n",
    "\n",
    "print(\"Most likely sequence of test difficulties:\", ' '.join(most_likely_sequence))\n",
    "print(\"Probability of this sequence:\", probability)"
   ],
   "outputs": [
    {
     "name": "stdout",
     "output_type": "stream",
     "text": [
      "Most likely sequence of test difficulties: E E D E D M D E D E D M\n",
      "Probability of this sequence: 2.7777777777777777e-12\n"
     ]
    }
   ],
   "execution_count": 4
  }
 ],
 "metadata": {
  "kernelspec": {
   "display_name": "Python 3",
   "language": "python",
   "name": "python3"
  },
  "language_info": {
   "codemirror_mode": {
    "name": "ipython",
    "version": 2
   },
   "file_extension": ".py",
   "mimetype": "text/x-python",
   "name": "python",
   "nbconvert_exporter": "python",
   "pygments_lexer": "ipython2",
   "version": "2.7.6"
  }
 },
 "nbformat": 4,
 "nbformat_minor": 5
}
