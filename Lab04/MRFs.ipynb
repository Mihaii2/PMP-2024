{
 "nbformat": 4,
 "nbformat_minor": 0,
 "metadata": {
  "colab": {
   "provenance": [],
   "authorship_tag": "ABX9TyPOL7uihPziTnUbi4uVHBX6"
  },
  "kernelspec": {
   "name": "python3",
   "display_name": "Python 3 (ipykernel)",
   "language": "python"
  },
  "language_info": {
   "name": "python"
  }
 },
 "cells": [
  {
   "cell_type": "code",
   "metadata": {
    "id": "Nb9FLqaAZVjg",
    "ExecuteTime": {
     "end_time": "2024-10-21T20:44:19.344911Z",
     "start_time": "2024-10-21T20:44:08.815717Z"
    }
   },
   "source": [
    "# First import MarkovNetwork class from pgmpy.models\n",
    "from pgmpy.models import MarkovNetwork\n",
    "model = MarkovNetwork([('A', 'B'), ('B', 'C')])\n",
    "model.add_node('D')\n",
    "model.add_edges_from([('C', 'D'), ('D', 'A')])"
   ],
   "outputs": [],
   "execution_count": 1
  },
  {
   "cell_type": "code",
   "source": [
    "import networkx as nx\n",
    "pos = nx.circular_layout(model)\n",
    "nx.draw(model, with_labels=True, pos=pos, alpha=0.5, node_size=2000)"
   ],
   "metadata": {
    "colab": {
     "base_uri": "https://localhost:8080/",
     "height": 516
    },
    "collapsed": true,
    "id": "ftxS-1dyQUsJ",
    "executionInfo": {
     "status": "ok",
     "timestamp": 1729240073475,
     "user_tz": -180,
     "elapsed": 395,
     "user": {
      "displayName": "Adrian Zalinescu",
      "userId": "12446656022086058673"
     }
    },
    "outputId": "ed4c9476-a0f3-4e25-ca65-d67f5e42c6b4",
    "ExecuteTime": {
     "end_time": "2024-10-21T20:45:46.446559Z",
     "start_time": "2024-10-21T20:45:45.687716Z"
    }
   },
   "outputs": [
    {
     "data": {
      "text/plain": [
       "<Figure size 640x480 with 1 Axes>"
      ],
      "image/png": "[encoded data removed]"
     },
     "metadata": {},
     "output_type": "display_data"
    }
   ],
   "execution_count": 2
  },
  {
   "cell_type": "code",
   "source": [
    "from pgmpy.factors.discrete import DiscreteFactor\n",
    "factor_a_b = DiscreteFactor(variables=['A', 'B'],cardinality=[2, 2],values=[90, 100, 1, 10])\n",
    "factor_b_c = DiscreteFactor(variables=['B', 'C'],cardinality=[2, 2],values=[10, 80, 70, 30])\n",
    "factor_c_d = DiscreteFactor(variables=['C', 'D'],cardinality=[2, 2],values=[10, 1, 100, 90])\n",
    "factor_d_a = DiscreteFactor(variables=['D', 'A'],cardinality=[2, 2],values=[80, 60, 20, 10])"
   ],
   "metadata": {
    "id": "pF-Heog6Rqjw",
    "ExecuteTime": {
     "end_time": "2024-10-21T20:45:48.132418Z",
     "start_time": "2024-10-21T20:45:48.118833Z"
    }
   },
   "outputs": [],
   "execution_count": 3
  },
  {
   "cell_type": "code",
   "source": [
    "model.add_factors(factor_a_b, factor_b_c,factor_c_d, factor_d_a)\n",
    "model.get_factors()"
   ],
   "metadata": {
    "colab": {
     "base_uri": "https://localhost:8080/"
    },
    "collapsed": true,
    "id": "9nvgv2qmSqDf",
    "executionInfo": {
     "status": "ok",
     "timestamp": 1729240227271,
     "user_tz": -180,
     "elapsed": 316,
     "user": {
      "displayName": "Adrian Zalinescu",
      "userId": "12446656022086058673"
     }
    },
    "outputId": "833a9b4c-8ae2-4901-d86a-f3794a951993",
    "ExecuteTime": {
     "end_time": "2024-10-21T20:45:49.469642Z",
     "start_time": "2024-10-21T20:45:49.458993Z"
    }
   },
   "outputs": [
    {
     "data": {
      "text/plain": [
       "[<DiscreteFactor representing phi(A:2, B:2) at 0x1e2caf82450>,\n",
       " <DiscreteFactor representing phi(B:2, C:2) at 0x1e2ca50b350>,\n",
       " <DiscreteFactor representing phi(C:2, D:2) at 0x1e2ca5caf30>,\n",
       " <DiscreteFactor representing phi(D:2, A:2) at 0x1e2ca5cadb0>]"
      ]
     },
     "execution_count": 4,
     "metadata": {},
     "output_type": "execute_result"
    }
   ],
   "execution_count": 4
  },
  {
   "cell_type": "code",
   "source": [
    "model.get_local_independencies()"
   ],
   "metadata": {
    "colab": {
     "base_uri": "https://localhost:8080/"
    },
    "collapsed": true,
    "id": "3Bnfe3XqTM5m",
    "executionInfo": {
     "status": "ok",
     "timestamp": 1729240251536,
     "user_tz": -180,
     "elapsed": 298,
     "user": {
      "displayName": "Adrian Zalinescu",
      "userId": "12446656022086058673"
     }
    },
    "outputId": "fa32d20c-c0df-47ec-d582-277948a92a97",
    "ExecuteTime": {
     "end_time": "2024-10-21T20:45:50.505583Z",
     "start_time": "2024-10-21T20:45:50.498822Z"
    }
   },
   "outputs": [
    {
     "data": {
      "text/plain": [
       "(A ⟂ C | B, D)\n",
       "(B ⟂ D | A, C)\n",
       "(C ⟂ A | B, D)\n",
       "(D ⟂ B | A, C)"
      ]
     },
     "execution_count": 5,
     "metadata": {},
     "output_type": "execute_result"
    }
   ],
   "execution_count": 5
  },
  {
   "cell_type": "code",
   "source": [
    "from pgmpy.inference import BeliefPropagation\n",
    "bp_infer = BeliefPropagation(model)\n",
    "marginals = bp_infer.map_query(variables=['A','B','C','D'])\n",
    "print(marginals)"
   ],
   "metadata": {
    "colab": {
     "base_uri": "https://localhost:8080/"
    },
    "collapsed": true,
    "id": "DBHYjKN-Tjft",
    "executionInfo": {
     "status": "ok",
     "timestamp": 1729240322920,
     "user_tz": -180,
     "elapsed": 341,
     "user": {
      "displayName": "Adrian Zalinescu",
      "userId": "12446656022086058673"
     }
    },
    "outputId": "b698fad6-6e65-473e-c06d-e3af19695412",
    "ExecuteTime": {
     "end_time": "2024-10-21T20:45:52.578024Z",
     "start_time": "2024-10-21T20:45:51.421984Z"
    }
   },
   "outputs": [
    {
     "name": "stdout",
     "output_type": "stream",
     "text": [
      "{'A': 0, 'B': 0, 'C': 1, 'D': 0}\n"
     ]
    }
   ],
   "execution_count": 6
  },
  {
   "metadata": {},
   "cell_type": "code",
   "outputs": [],
   "execution_count": null,
   "source": ""
  }
 ]
}
