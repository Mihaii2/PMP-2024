{
 "cells": [
  {
   "cell_type": "code",
   "id": "initial_id",
   "metadata": {
    "collapsed": true,
    "ExecuteTime": {
     "end_time": "2025-01-27T09:09:51.209999Z",
     "start_time": "2025-01-27T09:08:26.921062Z"
    }
   },
   "source": [
    "import pandas as pd\n",
    "import numpy as np\n",
    "import pymc as pm\n",
    "import arviz as az\n",
    "import matplotlib.pyplot as plt\n",
    "\n",
    "# Read and prepare data\n",
    "data = pd.read_csv('date_alegeri_turul2.csv')\n",
    "\n",
    "# Standardize numerical variables\n",
    "data['Varsta_std'] = (data['Varsta'] - data['Varsta'].mean()) / data['Varsta'].std()\n",
    "data['Venit_std'] = (data['Venit'] - data['Venit'].mean()) / data['Venit'].std()\n",
    "\n",
    "# First model with all variables\n",
    "with pm.Model() as model_l:\n",
    "    intercept = pm.Normal('intercept', mu=0, sigma=10)\n",
    "    beta_age = pm.Normal('beta_age', mu=0, sigma=10)\n",
    "    beta_sex = pm.Normal('beta_sex', mu=0, sigma=10)\n",
    "    beta_edu = pm.Normal('beta_edu', mu=0, sigma=10)\n",
    "    beta_income = pm.Normal('beta_income', mu=0, sigma=10)\n",
    "    \n",
    "    mu = intercept + \\\n",
    "         beta_age * data['Varsta_std'] + \\\n",
    "         beta_sex * data['Sex'] + \\\n",
    "         beta_edu * data['Educatie'] + \\\n",
    "         beta_income * data['Venit_std']\n",
    "    \n",
    "    theta = pm.math.sigmoid(mu)\n",
    "    y = pm.Bernoulli('y', p=theta, observed=data['Vot'])\n",
    "    \n",
    "    idata_l = pm.sample(draws=2000, tune=1000, return_inferencedata=True)\n",
    "\n",
    "# Get the two most important variables\n",
    "summary = az.summary(idata_l)\n",
    "coef_importance = abs(summary.loc[['beta_age', 'beta_sex', 'beta_edu', 'beta_income'], 'mean'])\n",
    "top_2_vars = coef_importance.nlargest(2)\n",
    "var_to_col = {\n",
    "    'beta_age': 'Varsta_std',\n",
    "    'beta_sex': 'Sex',\n",
    "    'beta_edu': 'Educatie',\n",
    "    'beta_income': 'Venit_std'\n",
    "}\n",
    "top_2_cols = [var_to_col[var] for var in top_2_vars.index]\n",
    "\n",
    "# Reduced model with only top 2 variables\n",
    "with pm.Model() as model_p:\n",
    "    intercept = pm.Normal('intercept', mu=0, sigma=10)\n",
    "    beta_1 = pm.Normal('beta_1', mu=0, sigma=10)\n",
    "    beta_2 = pm.Normal('beta_2', mu=0, sigma=10)\n",
    "    \n",
    "    mu = intercept + \\\n",
    "         beta_1 * data[top_2_cols[0]] + \\\n",
    "         beta_2 * data[top_2_cols[1]]\n",
    "    \n",
    "    theta = pm.math.sigmoid(mu)\n",
    "    y = pm.Bernoulli('y', p=theta, observed=data['Vot'])\n",
    "    \n",
    "    # Sample with more iterations for better HDI estimation\n",
    "    idata_p = pm.sample(draws=2000, tune=1000, return_inferencedata=True)\n",
    "\n",
    "# Print summaries\n",
    "print(\"\\nSummary of reduced model:\")\n",
    "print(az.summary(idata_p, hdi_prob=0.94))\n",
    "\n",
    "# Plot HDI\n",
    "plt.figure(figsize=(12, 6))\n",
    "az.plot_forest(idata_p, hdi_prob=0.94, var_names=['beta_1', 'beta_2'])\n",
    "plt.title('HDI (94%) for coefficients in reduced model')\n",
    "plt.show()\n",
    "\n",
    "# Compare models\n",
    "with model_l:\n",
    "    pm.compute_log_likelihood(idata_l)\n",
    "waic_l = az.waic(idata_l, scale=\"deviance\")\n",
    "\n",
    "with model_p:\n",
    "    pm.compute_log_likelihood(idata_p)\n",
    "waic_p = az.waic(idata_p, scale=\"deviance\")\n",
    "\n",
    "comparison_df = az.compare(\n",
    "    {'model_l': idata_l, 'model_p': idata_p},\n",
    "    method='BB-pseudo-BMA',\n",
    "    ic=\"waic\",\n",
    "    scale=\"deviance\"\n",
    ")\n",
    "\n",
    "print(\"\\nModel Comparison Results:\")\n",
    "print(comparison_df)"
   ],
   "outputs": [
    {
     "name": "stderr",
     "output_type": "stream",
     "text": [
      "Only 10 samples per chain. Reliable r-hat and ESS diagnostics require longer chains for accurate estimate.\n",
      "Auto-assigning NUTS sampler...\n",
      "Initializing NUTS using jitter+adapt_diag...\n",
      "Multiprocess sampling (4 chains in 4 jobs)\n",
      "NUTS: [intercept, beta_age, beta_sex, beta_edu, beta_income]\n"
     ]
    },
    {
     "data": {
      "text/plain": [
       "Output()"
      ],
      "application/vnd.jupyter.widget-view+json": {
       "version_major": 2,
       "version_minor": 0,
       "model_id": "99ab1e7640b240479216a35c03074915"
      }
     },
     "metadata": {},
     "output_type": "display_data"
    },
    {
     "data": {
      "text/plain": [],
      "text/html": [
       "<pre style=\"white-space:pre;overflow-x:auto;line-height:normal;font-family:Menlo,'DejaVu Sans Mono',consolas,'Courier New',monospace\"></pre>\n"
      ]
     },
     "metadata": {},
     "output_type": "display_data"
    },
    {
     "data": {
      "text/plain": [
       "\n"
      ],
      "text/html": [
       "<pre style=\"white-space:pre;overflow-x:auto;line-height:normal;font-family:Menlo,'DejaVu Sans Mono',consolas,'Courier New',monospace\">\n",
       "</pre>\n"
      ]
     },
     "metadata": {},
     "output_type": "display_data"
    },
    {
     "name": "stderr",
     "output_type": "stream",
     "text": [
      "Sampling 4 chains for 10 tune and 10 draw iterations (40 + 40 draws total) took 29 seconds.\n",
      "The number of samples is too small to check convergence reliably.\n",
      "Auto-assigning NUTS sampler...\n",
      "Initializing NUTS using jitter+adapt_diag...\n",
      "Multiprocess sampling (4 chains in 4 jobs)\n",
      "NUTS: [intercept, beta_1, beta_2]\n"
     ]
    },
    {
     "data": {
      "text/plain": [
       "Output()"
      ],
      "application/vnd.jupyter.widget-view+json": {
       "version_major": 2,
       "version_minor": 0,
       "model_id": "6f761e64e60045b68f8341792190b318"
      }
     },
     "metadata": {},
     "output_type": "display_data"
    },
    {
     "data": {
      "text/plain": [],
      "text/html": [
       "<pre style=\"white-space:pre;overflow-x:auto;line-height:normal;font-family:Menlo,'DejaVu Sans Mono',consolas,'Courier New',monospace\"></pre>\n"
      ]
     },
     "metadata": {},
     "output_type": "display_data"
    },
    {
     "data": {
      "text/plain": [
       "\n"
      ],
      "text/html": [
       "<pre style=\"white-space:pre;overflow-x:auto;line-height:normal;font-family:Menlo,'DejaVu Sans Mono',consolas,'Courier New',monospace\">\n",
       "</pre>\n"
      ]
     },
     "metadata": {},
     "output_type": "display_data"
    },
    {
     "name": "stderr",
     "output_type": "stream",
     "text": [
      "Sampling 4 chains for 1_000 tune and 2_000 draw iterations (4_000 + 8_000 draws total) took 43 seconds.\n"
     ]
    },
    {
     "name": "stdout",
     "output_type": "stream",
     "text": [
      "\n",
      "Summary of reduced model:\n",
      "            mean     sd  hdi_3%  hdi_97%  mcse_mean  mcse_sd  ess_bulk  \\\n",
      "intercept  2.087  0.205   1.694    2.461      0.003    0.002    3905.0   \n",
      "beta_1     1.008  0.141   0.730    1.263      0.002    0.001    4811.0   \n",
      "beta_2    -0.881  0.246  -1.341   -0.421      0.004    0.003    3870.0   \n",
      "\n",
      "           ess_tail  r_hat  \n",
      "intercept    4428.0    1.0  \n",
      "beta_1       4687.0    1.0  \n",
      "beta_2       4597.0    1.0  \n"
     ]
    },
    {
     "data": {
      "text/plain": [
       "<Figure size 1200x600 with 0 Axes>"
      ]
     },
     "metadata": {},
     "output_type": "display_data"
    },
    {
     "data": {
      "text/plain": [
       "<Figure size 600x580 with 1 Axes>"
      ],
      "image/png": "[encoded data removed]"
     },
     "metadata": {},
     "output_type": "display_data"
    },
    {
     "data": {
      "text/plain": [
       "Output()"
      ],
      "application/vnd.jupyter.widget-view+json": {
       "version_major": 2,
       "version_minor": 0,
       "model_id": "2ae547e8d3e044cdaf23fd16912714ea"
      }
     },
     "metadata": {},
     "output_type": "display_data"
    },
    {
     "data": {
      "text/plain": [],
      "text/html": [
       "<pre style=\"white-space:pre;overflow-x:auto;line-height:normal;font-family:Menlo,'DejaVu Sans Mono',consolas,'Courier New',monospace\"></pre>\n"
      ]
     },
     "metadata": {},
     "output_type": "display_data"
    },
    {
     "data": {
      "text/plain": [
       "\n"
      ],
      "text/html": [
       "<pre style=\"white-space:pre;overflow-x:auto;line-height:normal;font-family:Menlo,'DejaVu Sans Mono',consolas,'Courier New',monospace\">\n",
       "</pre>\n"
      ]
     },
     "metadata": {},
     "output_type": "display_data"
    },
    {
     "data": {
      "text/plain": [
       "Output()"
      ],
      "application/vnd.jupyter.widget-view+json": {
       "version_major": 2,
       "version_minor": 0,
       "model_id": "4da37e2808644ecba019b768e7ae3b9f"
      }
     },
     "metadata": {},
     "output_type": "display_data"
    },
    {
     "data": {
      "text/plain": [],
      "text/html": [
       "<pre style=\"white-space:pre;overflow-x:auto;line-height:normal;font-family:Menlo,'DejaVu Sans Mono',consolas,'Courier New',monospace\"></pre>\n"
      ]
     },
     "metadata": {},
     "output_type": "display_data"
    },
    {
     "data": {
      "text/plain": [
       "\n"
      ],
      "text/html": [
       "<pre style=\"white-space:pre;overflow-x:auto;line-height:normal;font-family:Menlo,'DejaVu Sans Mono',consolas,'Courier New',monospace\">\n",
       "</pre>\n"
      ]
     },
     "metadata": {},
     "output_type": "display_data"
    },
    {
     "name": "stdout",
     "output_type": "stream",
     "text": [
      "\n",
      "Model Comparison Results:\n",
      "         rank   elpd_waic    p_waic  elpd_diff    weight         se       dse  \\\n",
      "model_l     0  425.028260  5.524178   0.000000  0.915531  25.401877  0.000000   \n",
      "model_p     1  439.356857  2.898600  14.328596  0.084469  24.513585  9.330159   \n",
      "\n",
      "         warning     scale  \n",
      "model_l    False  deviance  \n",
      "model_p    False  deviance  \n"
     ]
    }
   ],
   "execution_count": 17
  }
 ],
 "metadata": {
  "kernelspec": {
   "display_name": "Python 3",
   "language": "python",
   "name": "python3"
  },
  "language_info": {
   "codemirror_mode": {
    "name": "ipython",
    "version": 2
   },
   "file_extension": ".py",
   "mimetype": "text/x-python",
   "name": "python",
   "nbconvert_exporter": "python",
   "pygments_lexer": "ipython2",
   "version": "2.7.6"
  }
 },
 "nbformat": 4,
 "nbformat_minor": 5
}
