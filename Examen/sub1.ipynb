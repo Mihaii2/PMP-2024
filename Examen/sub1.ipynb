{
 "cells": [
  {
   "cell_type": "code",
   "id": "initial_id",
   "metadata": {
    "collapsed": true,
    "ExecuteTime": {
     "end_time": "2025-01-27T08:55:57.263224Z",
     "start_time": "2025-01-27T08:54:44.322520Z"
    }
   },
   "source": [
    "import pandas as pd\n",
    "import numpy as np\n",
    "import pymc as pm\n",
    "import arviz as az\n",
    "import matplotlib.pyplot as plt\n",
    "\n",
    "# Read and prepare data\n",
    "data = pd.read_csv('date_alegeri_turul2.csv')\n",
    "\n",
    "# Standardize numerical variables\n",
    "data['Varsta_std'] = (data['Varsta'] - data['Varsta'].mean()) / data['Varsta'].std()\n",
    "data['Venit_std'] = (data['Venit'] - data['Venit'].mean()) / data['Venit'].std()\n",
    "\n",
    "# First model with all variables\n",
    "with pm.Model() as model_l:\n",
    "    # Priors\n",
    "    intercept = pm.Normal('intercept', mu=0, sigma=10)\n",
    "    beta_age = pm.Normal('beta_age', mu=0, sigma=10)\n",
    "    beta_sex = pm.Normal('beta_sex', mu=0, sigma=10)\n",
    "    beta_edu = pm.Normal('beta_edu', mu=0, sigma=10)\n",
    "    beta_income = pm.Normal('beta_income', mu=0, sigma=10)\n",
    "    \n",
    "    # Linear combination\n",
    "    mu = intercept + \\\n",
    "         beta_age * data['Varsta_std'] + \\\n",
    "         beta_sex * data['Sex'] + \\\n",
    "         beta_edu * data['Educatie'] + \\\n",
    "         beta_income * data['Venit_std']\n",
    "    \n",
    "    # Likelihood\n",
    "    theta = pm.math.sigmoid(mu)\n",
    "    y = pm.Bernoulli('y', p=theta, observed=data['Vot'])\n",
    "    \n",
    "    # Sampling\n",
    "    idata_l = pm.sample(draws=10, tune=10, return_inferencedata=True)\n",
    "\n",
    "# Analyze the coefficients to find most important variables\n",
    "summary = az.summary(idata_l)\n",
    "print(\"\\nModel Summary:\")\n",
    "print(summary)\n",
    "\n",
    "# Get absolute mean values of coefficients (excluding intercept)\n",
    "coef_importance = abs(summary.loc[['beta_age', 'beta_sex', 'beta_edu', 'beta_income'], 'mean'])\n",
    "top_2_vars = coef_importance.nlargest(2)\n",
    "print(\"\\nTop 2 most influential variables:\")\n",
    "print(top_2_vars)\n",
    "\n",
    "# Map variable names to data columns\n",
    "var_to_col = {\n",
    "    'beta_age': 'Varsta_std',\n",
    "    'beta_sex': 'Sex',\n",
    "    'beta_edu': 'Educatie',\n",
    "    'beta_income': 'Venit_std'\n",
    "}\n",
    "\n",
    "# Get column names for top 2 variables\n",
    "top_2_cols = [var_to_col[var] for var in top_2_vars.index]\n",
    "print(\"\\nSelected columns:\", top_2_cols)\n",
    "\n",
    "# Create reduced model with only the two most important variables\n",
    "with pm.Model() as model_p:\n",
    "    # Priors\n",
    "    intercept = pm.Normal('intercept', mu=0, sigma=10)\n",
    "    beta_1 = pm.Normal('beta_1', mu=0, sigma=10)\n",
    "    beta_2 = pm.Normal('beta_2', mu=0, sigma=10)\n",
    "    \n",
    "    # Linear combination\n",
    "    mu = intercept + \\\n",
    "         beta_1 * data[top_2_cols[0]] + \\\n",
    "         beta_2 * data[top_2_cols[1]]\n",
    "    \n",
    "    # Likelihood\n",
    "    theta = pm.math.sigmoid(mu)\n",
    "    y = pm.Bernoulli('y', p=theta, observed=data['Vot'])\n",
    "    \n",
    "    # Sampling\n",
    "    idata_p = pm.sample(draws=2000, tune=1000, return_inferencedata=True)\n",
    "\n",
    "# Compare models\n",
    "with model_l:\n",
    "    pm.compute_log_likelihood(idata_l)\n",
    "waic_l = az.waic(idata_l, scale=\"deviance\")\n",
    "\n",
    "with model_p:\n",
    "    pm.compute_log_likelihood(idata_p)\n",
    "waic_p = az.waic(idata_p, scale=\"deviance\")\n",
    "\n",
    "# Compare using BB-pseudo-BMA\n",
    "comparison_df = az.compare(\n",
    "    {'model_l': idata_l, 'model_p': idata_p},\n",
    "    method='BB-pseudo-BMA',\n",
    "    ic=\"waic\",\n",
    "    scale=\"deviance\"\n",
    ")\n",
    "\n",
    "# Plot comparison\n",
    "az.plot_compare(comparison_df)\n",
    "plt.show()\n",
    "\n",
    "# Print comparison results\n",
    "print(\"\\nModel Comparison Results:\")\n",
    "print(comparison_df)"
   ],
   "outputs": [
    {
     "name": "stderr",
     "output_type": "stream",
     "text": [
      "Only 10 samples per chain. Reliable r-hat and ESS diagnostics require longer chains for accurate estimate.\n",
      "Auto-assigning NUTS sampler...\n",
      "Initializing NUTS using jitter+adapt_diag...\n",
      "Multiprocess sampling (4 chains in 4 jobs)\n",
      "NUTS: [intercept, beta_age, beta_sex, beta_edu, beta_income]\n"
     ]
    },
    {
     "data": {
      "text/plain": [
       "Output()"
      ],
      "application/vnd.jupyter.widget-view+json": {
       "version_major": 2,
       "version_minor": 0,
       "model_id": "4e642049a2274b1b90e3ba73120f8133"
      }
     },
     "metadata": {},
     "output_type": "display_data"
    },
    {
     "data": {
      "text/plain": [],
      "text/html": [
       "<pre style=\"white-space:pre;overflow-x:auto;line-height:normal;font-family:Menlo,'DejaVu Sans Mono',consolas,'Courier New',monospace\"></pre>\n"
      ]
     },
     "metadata": {},
     "output_type": "display_data"
    },
    {
     "data": {
      "text/plain": [
       "\n"
      ],
      "text/html": [
       "<pre style=\"white-space:pre;overflow-x:auto;line-height:normal;font-family:Menlo,'DejaVu Sans Mono',consolas,'Courier New',monospace\">\n",
       "</pre>\n"
      ]
     },
     "metadata": {},
     "output_type": "display_data"
    },
    {
     "name": "stderr",
     "output_type": "stream",
     "text": [
      "Sampling 4 chains for 10 tune and 10 draw iterations (40 + 40 draws total) took 32 seconds.\n",
      "The number of samples is too small to check convergence reliably.\n",
      "Only 10 samples per chain. Reliable r-hat and ESS diagnostics require longer chains for accurate estimate.\n"
     ]
    },
    {
     "name": "stdout",
     "output_type": "stream",
     "text": [
      "\n",
      "Model Summary:\n",
      "              mean     sd  hdi_3%  hdi_97%  mcse_mean  mcse_sd  ess_bulk  \\\n",
      "intercept    1.585  0.241   1.300    2.055      0.031    0.024      58.0   \n",
      "beta_age     0.309  0.130   0.086    0.498      0.016    0.012      64.0   \n",
      "beta_sex    -0.863  0.249  -1.375   -0.517      0.045    0.033      29.0   \n",
      "beta_edu     0.587  0.147   0.282    0.784      0.025    0.018      43.0   \n",
      "beta_income  1.029  0.146   0.832    1.318      0.018    0.013      64.0   \n",
      "\n",
      "             ess_tail  r_hat  \n",
      "intercept        61.0   1.12  \n",
      "beta_age         47.0   1.25  \n",
      "beta_sex         35.0   1.12  \n",
      "beta_edu         61.0   1.07  \n",
      "beta_income      61.0   1.11  \n",
      "\n",
      "Top 2 most influential variables:\n",
      "beta_income    1.029\n",
      "beta_sex       0.863\n",
      "Name: mean, dtype: float64\n",
      "\n",
      "Selected columns: ['Venit_std', 'Sex']\n"
     ]
    },
    {
     "name": "stderr",
     "output_type": "stream",
     "text": [
      "Auto-assigning NUTS sampler...\n",
      "Initializing NUTS using jitter+adapt_diag...\n",
      "Multiprocess sampling (4 chains in 4 jobs)\n",
      "NUTS: [intercept, beta_1, beta_2]\n"
     ]
    },
    {
     "data": {
      "text/plain": [
       "Output()"
      ],
      "application/vnd.jupyter.widget-view+json": {
       "version_major": 2,
       "version_minor": 0,
       "model_id": "92f92a7e0fec445aaf2a0cebb5669b8b"
      }
     },
     "metadata": {},
     "output_type": "display_data"
    },
    {
     "data": {
      "text/plain": [],
      "text/html": [
       "<pre style=\"white-space:pre;overflow-x:auto;line-height:normal;font-family:Menlo,'DejaVu Sans Mono',consolas,'Courier New',monospace\"></pre>\n"
      ]
     },
     "metadata": {},
     "output_type": "display_data"
    },
    {
     "data": {
      "text/plain": [
       "\n"
      ],
      "text/html": [
       "<pre style=\"white-space:pre;overflow-x:auto;line-height:normal;font-family:Menlo,'DejaVu Sans Mono',consolas,'Courier New',monospace\">\n",
       "</pre>\n"
      ]
     },
     "metadata": {},
     "output_type": "display_data"
    },
    {
     "name": "stderr",
     "output_type": "stream",
     "text": [
      "Sampling 4 chains for 10 tune and 10 draw iterations (40 + 40 draws total) took 30 seconds.\n",
      "The number of samples is too small to check convergence reliably.\n"
     ]
    },
    {
     "data": {
      "text/plain": [
       "Output()"
      ],
      "application/vnd.jupyter.widget-view+json": {
       "version_major": 2,
       "version_minor": 0,
       "model_id": "b21c2101a6b74a889c15a512a52219d5"
      }
     },
     "metadata": {},
     "output_type": "display_data"
    },
    {
     "data": {
      "text/plain": [],
      "text/html": [
       "<pre style=\"white-space:pre;overflow-x:auto;line-height:normal;font-family:Menlo,'DejaVu Sans Mono',consolas,'Courier New',monospace\"></pre>\n"
      ]
     },
     "metadata": {},
     "output_type": "display_data"
    },
    {
     "data": {
      "text/plain": [
       "\n"
      ],
      "text/html": [
       "<pre style=\"white-space:pre;overflow-x:auto;line-height:normal;font-family:Menlo,'DejaVu Sans Mono',consolas,'Courier New',monospace\">\n",
       "</pre>\n"
      ]
     },
     "metadata": {},
     "output_type": "display_data"
    },
    {
     "data": {
      "text/plain": [
       "Output()"
      ],
      "application/vnd.jupyter.widget-view+json": {
       "version_major": 2,
       "version_minor": 0,
       "model_id": "318b2c4f024d48bda5697518f3a4644b"
      }
     },
     "metadata": {},
     "output_type": "display_data"
    },
    {
     "data": {
      "text/plain": [],
      "text/html": [
       "<pre style=\"white-space:pre;overflow-x:auto;line-height:normal;font-family:Menlo,'DejaVu Sans Mono',consolas,'Courier New',monospace\"></pre>\n"
      ]
     },
     "metadata": {},
     "output_type": "display_data"
    },
    {
     "data": {
      "text/plain": [
       "\n"
      ],
      "text/html": [
       "<pre style=\"white-space:pre;overflow-x:auto;line-height:normal;font-family:Menlo,'DejaVu Sans Mono',consolas,'Courier New',monospace\">\n",
       "</pre>\n"
      ]
     },
     "metadata": {},
     "output_type": "display_data"
    },
    {
     "data": {
      "text/plain": [
       "<Figure size 600x200 with 1 Axes>"
      ],
      "image/png": "[encoded data removed]"
     },
     "metadata": {},
     "output_type": "display_data"
    },
    {
     "name": "stdout",
     "output_type": "stream",
     "text": [
      "\n",
      "Model Comparison Results:\n",
      "         rank   elpd_waic    p_waic  elpd_diff    weight         se       dse  \\\n",
      "model_l     0  422.454030  4.368735   0.000000  0.956394  24.478358  0.000000   \n",
      "model_p     1  439.358735  2.916768  16.904705  0.043606  23.961839  9.118693   \n",
      "\n",
      "         warning     scale  \n",
      "model_l    False  deviance  \n",
      "model_p    False  deviance  \n"
     ]
    }
   ],
   "execution_count": 10
  }
 ],
 "metadata": {
  "kernelspec": {
   "display_name": "Python 3",
   "language": "python",
   "name": "python3"
  },
  "language_info": {
   "codemirror_mode": {
    "name": "ipython",
    "version": 2
   },
   "file_extension": ".py",
   "mimetype": "text/x-python",
   "name": "python",
   "nbconvert_exporter": "python",
   "pygments_lexer": "ipython2",
   "version": "2.7.6"
  }
 },
 "nbformat": 4,
 "nbformat_minor": 5
}
