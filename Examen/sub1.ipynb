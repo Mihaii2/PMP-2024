{
 "cells": [
  {
   "cell_type": "code",
   "id": "initial_id",
   "metadata": {
    "collapsed": true,
    "ExecuteTime": {
     "end_time": "2025-01-27T08:43:53.634476Z",
     "start_time": "2025-01-27T08:42:39.044817Z"
    }
   },
   "source": [
    "import pandas as pd\n",
    "import numpy as np\n",
    "import pymc as pm\n",
    "import arviz as az\n",
    "import matplotlib.pyplot as plt\n",
    "\n",
    "# Read and prepare data\n",
    "data = pd.read_csv('date_alegeri_turul2.csv')\n",
    "\n",
    "# Standardize numerical variables\n",
    "data['Varsta_std'] = (data['Varsta'] - data['Varsta'].mean()) / data['Varsta'].std()\n",
    "data['Venit_std'] = (data['Venit'] - data['Venit'].mean()) / data['Venit'].std()\n",
    "\n",
    "# Model with all variables\n",
    "with pm.Model() as model_l:\n",
    "    # Priors\n",
    "    intercept = pm.Normal('intercept', mu=0, sigma=10)\n",
    "    beta_age = pm.Normal('beta_age', mu=0, sigma=10)\n",
    "    beta_sex = pm.Normal('beta_sex', mu=0, sigma=10)\n",
    "    beta_edu = pm.Normal('beta_edu', mu=0, sigma=10)\n",
    "    beta_income = pm.Normal('beta_income', mu=0, sigma=10)\n",
    "    \n",
    "    # Linear combination\n",
    "    mu = intercept + \\\n",
    "         beta_age * data['Varsta_std'] + \\\n",
    "         beta_sex * data['Sex'] + \\\n",
    "         beta_edu * data['Educatie'] + \\\n",
    "         beta_income * data['Venit_std']\n",
    "    \n",
    "    # Likelihood\n",
    "    theta = pm.math.sigmoid(mu)\n",
    "    y = pm.Bernoulli('y', p=theta, observed=data['Vot'])\n",
    "    \n",
    "    # Sampling\n",
    "    idata_l = pm.sample(draws=10, tune=10, return_inferencedata=True)\n",
    "\n",
    "# Model with just two variables (assuming Age and Income are most influential)\n",
    "with pm.Model() as model_p:\n",
    "    # Priors\n",
    "    intercept = pm.Normal('intercept', mu=0, sigma=10)\n",
    "    beta_age = pm.Normal('beta_age', mu=0, sigma=10)\n",
    "    beta_income = pm.Normal('beta_income', mu=0, sigma=10)\n",
    "    \n",
    "    # Linear combination\n",
    "    mu = intercept + \\\n",
    "         beta_age * data['Varsta_std'] + \\\n",
    "         beta_income * data['Venit_std']\n",
    "    \n",
    "    # Likelihood\n",
    "    theta = pm.math.sigmoid(mu)\n",
    "    y = pm.Bernoulli('y', p=theta, observed=data['Vot'])\n",
    "    \n",
    "    # Sampling\n",
    "    idata_p = pm.sample(draws=10, tune=10, return_inferencedata=True)\n",
    "\n",
    "# Compare models\n",
    "with model_l:\n",
    "    pm.compute_log_likelihood(idata_l)\n",
    "waic_l = az.waic(idata_l, scale=\"deviance\")\n",
    "\n",
    "with model_p:\n",
    "    pm.compute_log_likelihood(idata_p)\n",
    "waic_p = az.waic(idata_p, scale=\"deviance\")\n",
    "\n",
    "# Compare using BB-pseudo-BMA\n",
    "comparison_df = az.compare(\n",
    "    {'model_l': idata_l, 'model_p': idata_p},\n",
    "    method='BB-pseudo-BMA',\n",
    "    ic=\"waic\",\n",
    "    scale=\"deviance\"\n",
    ")\n",
    "\n",
    "# Plot comparison\n",
    "az.plot_compare(comparison_df)\n",
    "plt.show()\n",
    "\n",
    "# Print comparison results\n",
    "print(\"\\nModel Comparison Results:\")\n",
    "print(comparison_df)"
   ],
   "outputs": [
    {
     "name": "stderr",
     "output_type": "stream",
     "text": [
      "Only 10 samples per chain. Reliable r-hat and ESS diagnostics require longer chains for accurate estimate.\n",
      "Auto-assigning NUTS sampler...\n",
      "Initializing NUTS using jitter+adapt_diag...\n",
      "Multiprocess sampling (4 chains in 4 jobs)\n",
      "NUTS: [intercept, beta_age, beta_sex, beta_edu, beta_income]\n"
     ]
    },
    {
     "data": {
      "text/plain": [
       "Output()"
      ],
      "application/vnd.jupyter.widget-view+json": {
       "version_major": 2,
       "version_minor": 0,
       "model_id": "393da9e42a4a4be0921487182a2bfc98"
      }
     },
     "metadata": {},
     "output_type": "display_data"
    },
    {
     "data": {
      "text/plain": [],
      "text/html": [
       "<pre style=\"white-space:pre;overflow-x:auto;line-height:normal;font-family:Menlo,'DejaVu Sans Mono',consolas,'Courier New',monospace\"></pre>\n"
      ]
     },
     "metadata": {},
     "output_type": "display_data"
    },
    {
     "data": {
      "text/plain": [
       "\n"
      ],
      "text/html": [
       "<pre style=\"white-space:pre;overflow-x:auto;line-height:normal;font-family:Menlo,'DejaVu Sans Mono',consolas,'Courier New',monospace\">\n",
       "</pre>\n"
      ]
     },
     "metadata": {},
     "output_type": "display_data"
    },
    {
     "name": "stderr",
     "output_type": "stream",
     "text": [
      "Sampling 4 chains for 10 tune and 10 draw iterations (40 + 40 draws total) took 33 seconds.\n",
      "The number of samples is too small to check convergence reliably.\n",
      "Only 10 samples per chain. Reliable r-hat and ESS diagnostics require longer chains for accurate estimate.\n",
      "Auto-assigning NUTS sampler...\n",
      "Initializing NUTS using jitter+adapt_diag...\n",
      "Multiprocess sampling (4 chains in 4 jobs)\n",
      "NUTS: [intercept, beta_age, beta_income]\n"
     ]
    },
    {
     "data": {
      "text/plain": [
       "Output()"
      ],
      "application/vnd.jupyter.widget-view+json": {
       "version_major": 2,
       "version_minor": 0,
       "model_id": "29b701aed173497cabc064a3940fa464"
      }
     },
     "metadata": {},
     "output_type": "display_data"
    },
    {
     "data": {
      "text/plain": [],
      "text/html": [
       "<pre style=\"white-space:pre;overflow-x:auto;line-height:normal;font-family:Menlo,'DejaVu Sans Mono',consolas,'Courier New',monospace\"></pre>\n"
      ]
     },
     "metadata": {},
     "output_type": "display_data"
    },
    {
     "data": {
      "text/plain": [
       "\n"
      ],
      "text/html": [
       "<pre style=\"white-space:pre;overflow-x:auto;line-height:normal;font-family:Menlo,'DejaVu Sans Mono',consolas,'Courier New',monospace\">\n",
       "</pre>\n"
      ]
     },
     "metadata": {},
     "output_type": "display_data"
    },
    {
     "name": "stderr",
     "output_type": "stream",
     "text": [
      "Sampling 4 chains for 10 tune and 10 draw iterations (40 + 40 draws total) took 31 seconds.\n",
      "The number of samples is too small to check convergence reliably.\n"
     ]
    },
    {
     "data": {
      "text/plain": [
       "Output()"
      ],
      "application/vnd.jupyter.widget-view+json": {
       "version_major": 2,
       "version_minor": 0,
       "model_id": "3e27b17223744712aa3a5c5d76912480"
      }
     },
     "metadata": {},
     "output_type": "display_data"
    },
    {
     "data": {
      "text/plain": [],
      "text/html": [
       "<pre style=\"white-space:pre;overflow-x:auto;line-height:normal;font-family:Menlo,'DejaVu Sans Mono',consolas,'Courier New',monospace\"></pre>\n"
      ]
     },
     "metadata": {},
     "output_type": "display_data"
    },
    {
     "data": {
      "text/plain": [
       "\n"
      ],
      "text/html": [
       "<pre style=\"white-space:pre;overflow-x:auto;line-height:normal;font-family:Menlo,'DejaVu Sans Mono',consolas,'Courier New',monospace\">\n",
       "</pre>\n"
      ]
     },
     "metadata": {},
     "output_type": "display_data"
    },
    {
     "data": {
      "text/plain": [
       "Output()"
      ],
      "application/vnd.jupyter.widget-view+json": {
       "version_major": 2,
       "version_minor": 0,
       "model_id": "6b0ec81df6ce45348b6f5595b9ad5b7c"
      }
     },
     "metadata": {},
     "output_type": "display_data"
    },
    {
     "data": {
      "text/plain": [],
      "text/html": [
       "<pre style=\"white-space:pre;overflow-x:auto;line-height:normal;font-family:Menlo,'DejaVu Sans Mono',consolas,'Courier New',monospace\"></pre>\n"
      ]
     },
     "metadata": {},
     "output_type": "display_data"
    },
    {
     "data": {
      "text/plain": [
       "\n"
      ],
      "text/html": [
       "<pre style=\"white-space:pre;overflow-x:auto;line-height:normal;font-family:Menlo,'DejaVu Sans Mono',consolas,'Courier New',monospace\">\n",
       "</pre>\n"
      ]
     },
     "metadata": {},
     "output_type": "display_data"
    },
    {
     "data": {
      "text/plain": [
       "<Figure size 600x200 with 1 Axes>"
      ],
      "image/png": "[encoded data removed]"
     },
     "metadata": {},
     "output_type": "display_data"
    },
    {
     "name": "stdout",
     "output_type": "stream",
     "text": [
      "\n",
      "Model Comparison Results:\n",
      "         rank   elpd_waic    p_waic  elpd_diff    weight         se  \\\n",
      "model_l     0  422.071860  4.168807   0.000000  0.992615  25.134787   \n",
      "model_p     1  449.513658  3.917282  27.441798  0.007385  25.008290   \n",
      "\n",
      "               dse  warning     scale  \n",
      "model_l   0.000000    False  deviance  \n",
      "model_p  10.500482    False  deviance  \n"
     ]
    }
   ],
   "execution_count": 8
  }
 ],
 "metadata": {
  "kernelspec": {
   "display_name": "Python 3",
   "language": "python",
   "name": "python3"
  },
  "language_info": {
   "codemirror_mode": {
    "name": "ipython",
    "version": 2
   },
   "file_extension": ".py",
   "mimetype": "text/x-python",
   "name": "python",
   "nbconvert_exporter": "python",
   "pygments_lexer": "ipython2",
   "version": "2.7.6"
  }
 },
 "nbformat": 4,
 "nbformat_minor": 5
}
