{
 "cells": [
  {
   "cell_type": "code",
   "id": "initial_id",
   "metadata": {
    "collapsed": true,
    "ExecuteTime": {
     "end_time": "2025-01-27T08:45:58.728640Z",
     "start_time": "2025-01-27T08:45:43.705906Z"
    }
   },
   "source": [
    "import pandas as pd\n",
    "import numpy as np\n",
    "import pymc as pm\n",
    "\n",
    "if __name__ == '__main__':\n",
    "        \n",
    "    # Read the data\n",
    "    iris = pd.read_csv('iris.csv')\n",
    "    \n",
    "    # Convert species to numeric\n",
    "    species_map = {name: i for i, name in enumerate(iris['species'].unique())}\n",
    "    iris['species_num'] = iris['species'].map(species_map)\n",
    "    \n",
    "    # Standardize features\n",
    "    features = ['sepal_length', 'sepal_width', 'petal_length', 'petal_width']\n",
    "    X = iris[features].values\n",
    "    X = (X - X.mean(axis=0)) / X.std(axis=0)\n",
    "    y = iris['species_num'].values\n",
    "    \n",
    "    # Create and run the model\n",
    "    with pm.Model() as model:\n",
    "        # Priors for unknown model parameters\n",
    "        alpha = pm.Normal('alpha', mu=0, sigma=10)\n",
    "        beta = pm.Normal('beta', mu=0, sigma=10, shape=len(features))\n",
    "        sigma = pm.HalfNormal('sigma', sigma=1)\n",
    "    \n",
    "        # Expected value of outcome\n",
    "        mu = alpha + pm.math.dot(X, beta)\n",
    "    \n",
    "        # Likelihood (sampling distribution) of observations\n",
    "        y_obs = pm.Normal('y_obs', mu=mu, sigma=sigma, observed=y)\n",
    "    \n",
    "        # Inference\n",
    "        trace = pm.sample(draws=20, tune=10, chains=1, progressbar=False)\n",
    "    \n",
    "    print(\"Model sampling completed\")\n",
    "    \n",
    "    # Print the feature importance based on absolute coefficient values\n",
    "    with model:\n",
    "        beta_samples = trace.posterior['beta'].mean(dim=[\"chain\", \"draw\"]).values\n",
    "        importance = np.abs(beta_samples)\n",
    "    \n",
    "    print(\"\\nFeature importance (absolute value of coefficients):\")\n",
    "    for feat, imp in zip(features, importance):\n",
    "        print(f\"{feat}: {imp:.3f}\")"
   ],
   "outputs": [
    {
     "name": "stderr",
     "output_type": "stream",
     "text": [
      "Only 20 samples per chain. Reliable r-hat and ESS diagnostics require longer chains for accurate estimate.\n",
      "Auto-assigning NUTS sampler...\n",
      "Initializing NUTS using jitter+adapt_diag...\n",
      "Sequential sampling (1 chains in 1 job)\n",
      "NUTS: [alpha, beta, sigma]\n",
      "Sampling 1 chain for 10 tune and 20 draw iterations (10 + 20 draws total) took 0 seconds.\n",
      "The number of samples is too small to check convergence reliably.\n"
     ]
    },
    {
     "name": "stdout",
     "output_type": "stream",
     "text": [
      "Model sampling completed\n",
      "\n",
      "Feature importance (absolute value of coefficients):\n",
      "sepal_length: 0.052\n",
      "sepal_width: 0.032\n",
      "petal_length: 0.286\n",
      "petal_width: 0.537\n"
     ]
    }
   ],
   "execution_count": 8
  }
 ],
 "metadata": {
  "kernelspec": {
   "display_name": "Python 3",
   "language": "python",
   "name": "python3"
  },
  "language_info": {
   "codemirror_mode": {
    "name": "ipython",
    "version": 2
   },
   "file_extension": ".py",
   "mimetype": "text/x-python",
   "name": "python",
   "nbconvert_exporter": "python",
   "pygments_lexer": "ipython2",
   "version": "2.7.6"
  }
 },
 "nbformat": 4,
 "nbformat_minor": 5
}
