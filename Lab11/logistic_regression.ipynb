{
 "cells": [
  {
   "metadata": {
    "ExecuteTime": {
     "end_time": "2025-01-21T20:12:58.284036Z",
     "start_time": "2025-01-21T20:11:49.649573Z"
    }
   },
   "cell_type": "code",
   "source": [
    "import numpy as np\n",
    "import pandas as pd\n",
    "import pymc as pm\n",
    "import arviz as az\n",
    "import matplotlib.pyplot as plt\n",
    "import seaborn as sns\n",
    "\n",
    "y_0 = [0, 0, 1, 1, 1, 1]\n",
    "x_n = 'ore_studiu'\n",
    "x_0 = np.array([1, 3, 4, 5, 6, 8])\n",
    "x_c = x_0 - x_0.mean()\n",
    "\n",
    "with pm.Model() as model_0:\n",
    "    α = pm.Normal('α', mu=0, sigma=10)\n",
    "    β = pm.Normal('β', mu=0, sigma=10)\n",
    "    µ = α + pm.math.dot(x_c, β)\n",
    "    θ = pm.Deterministic('θ', pm.math.sigmoid(µ))\n",
    "    bd = pm.Deterministic('bd', -α/β)\n",
    "    yl = pm.Bernoulli('yl', p=θ, observed=y_0)\n",
    "    idata_0 = pm.sample(1000, return_inferencedata=True)"
   ],
   "id": "5c4af218baa4f831",
   "outputs": [
    {
     "name": "stderr",
     "output_type": "stream",
     "text": [
      "WARNING (pytensor.tensor.blas): Using NumPy C-API based implementation for BLAS functions.\n",
      "Auto-assigning NUTS sampler...\n",
      "Initializing NUTS using jitter+adapt_diag...\n",
      "Multiprocess sampling (4 chains in 4 jobs)\n",
      "NUTS: [α, β]\n"
     ]
    },
    {
     "data": {
      "text/plain": [
       "Output()"
      ],
      "application/vnd.jupyter.widget-view+json": {
       "version_major": 2,
       "version_minor": 0,
       "model_id": "26f843d67f8940b1977974e174f790eb"
      }
     },
     "metadata": {},
     "output_type": "display_data"
    },
    {
     "data": {
      "text/plain": [],
      "text/html": [
       "<pre style=\"white-space:pre;overflow-x:auto;line-height:normal;font-family:Menlo,'DejaVu Sans Mono',consolas,'Courier New',monospace\"></pre>\n"
      ]
     },
     "metadata": {},
     "output_type": "display_data"
    },
    {
     "data": {
      "text/plain": [
       "\n"
      ],
      "text/html": [
       "<pre style=\"white-space:pre;overflow-x:auto;line-height:normal;font-family:Menlo,'DejaVu Sans Mono',consolas,'Courier New',monospace\">\n",
       "</pre>\n"
      ]
     },
     "metadata": {},
     "output_type": "display_data"
    },
    {
     "name": "stderr",
     "output_type": "stream",
     "text": [
      "Sampling 4 chains for 1_000 tune and 1_000 draw iterations (4_000 + 4_000 draws total) took 39 seconds.\n",
      "There were 1452 divergences after tuning. Increase `target_accept` or reparameterize.\n"
     ]
    }
   ],
   "execution_count": 1
  },
  {
   "metadata": {
    "ExecuteTime": {
     "end_time": "2025-01-21T20:19:07.571834Z",
     "start_time": "2025-01-21T20:19:07.001304Z"
    }
   },
   "cell_type": "code",
   "source": [
    "print(az.summary(idata_0, var_names=['α', 'β', 'bd']))\n",
    "\n",
    "posterior_0 = idata_0.posterior.stack(samples=(\"chain\", \"draw\"))\n",
    "theta = posterior_0['θ'].mean(\"samples\")\n",
    "idx = np.argsort(x_c)\n",
    "plt.plot(x_c[idx], theta[idx], color='C2', lw=3)\n",
    "plt.vlines(posterior_0['bd'].mean(), 0, 1, color='k')\n",
    "bd_hpd = az.hdi(posterior_0['bd'].values)\n",
    "plt.fill_betweenx([0, 1], bd_hpd[0], bd_hpd[1], color='k', alpha=0.5)\n",
    "plt.scatter(x_c, np.random.normal(y_0, 0.02),\n",
    "marker='.', color=[f'C{x}' for x in y_0])\n",
    "az.plot_hdi(x_c, posterior_0['θ'].T, color='C2', smooth=False)\n",
    "plt.xlabel(x_n)\n",
    "plt.ylabel('θ', rotation=0)\n",
    "# use original scale for xticks\n",
    "locs, _ = plt.xticks()\n",
    "plt.xticks(locs, np.round(locs + x_0.mean(), 1))\n",
    "\n"
   ],
   "id": "5dc47d1801f324d3",
   "outputs": [
    {
     "name": "stdout",
     "output_type": "stream",
     "text": [
      "     mean     sd  hdi_3%  hdi_97%  mcse_mean  mcse_sd  ess_bulk  ess_tail  \\\n",
      "α   4.524  2.537   0.138    9.398      0.077    0.056    1097.0    1241.0   \n",
      "β   5.183  2.056   1.421    8.628      0.070    0.050     856.0    1195.0   \n",
      "bd -0.930  0.576  -2.020   -0.025      0.012    0.009    2039.0    2155.0   \n",
      "\n",
      "    r_hat  \n",
      "α    1.00  \n",
      "β    1.01  \n",
      "bd   1.00  \n"
     ]
    },
    {
     "name": "stderr",
     "output_type": "stream",
     "text": [
      "C:\\Users\\mihai\\anaconda3\\Lib\\site-packages\\arviz\\plots\\hdiplot.py:161: FutureWarning: hdi currently interprets 2d data as (draw, shape) but this will change in a future release to (chain, draw) for coherence with other functions\n",
      "  hdi_data = hdi(y, hdi_prob=hdi_prob, circular=circular, multimodal=False, **hdi_kwargs)\n"
     ]
    },
    {
     "data": {
      "text/plain": [
       "([<matplotlib.axis.XTick at 0x1b8c8561e80>,\n",
       "  <matplotlib.axis.XTick at 0x1b8c852fcb0>,\n",
       "  <matplotlib.axis.XTick at 0x1b8c852fb30>,\n",
       "  <matplotlib.axis.XTick at 0x1b8c80ac200>,\n",
       "  <matplotlib.axis.XTick at 0x1b8c80acef0>,\n",
       "  <matplotlib.axis.XTick at 0x1b8c80ae630>,\n",
       "  <matplotlib.axis.XTick at 0x1b8c80ae360>,\n",
       "  <matplotlib.axis.XTick at 0x1b8c8074980>,\n",
       "  <matplotlib.axis.XTick at 0x1b8c8074470>],\n",
       " [Text(-4.0, 0, '0.5'),\n",
       "  Text(-3.0, 0, '1.5'),\n",
       "  Text(-2.0, 0, '2.5'),\n",
       "  Text(-1.0, 0, '3.5'),\n",
       "  Text(0.0, 0, '4.5'),\n",
       "  Text(1.0, 0, '5.5'),\n",
       "  Text(2.0, 0, '6.5'),\n",
       "  Text(3.0, 0, '7.5'),\n",
       "  Text(4.0, 0, '8.5')])"
      ]
     },
     "execution_count": 2,
     "metadata": {},
     "output_type": "execute_result"
    },
    {
     "data": {
      "text/plain": [
       "<Figure size 640x480 with 1 Axes>"
      ],
      "image/png": "[encoded data removed]"
     },
     "metadata": {},
     "output_type": "display_data"
    }
   ],
   "execution_count": 2
  }
 ],
 "metadata": {
  "kernelspec": {
   "display_name": "Python 3",
   "language": "python",
   "name": "python3"
  },
  "language_info": {
   "codemirror_mode": {
    "name": "ipython",
    "version": 2
   },
   "file_extension": ".py",
   "mimetype": "text/x-python",
   "name": "python",
   "nbconvert_exporter": "python",
   "pygments_lexer": "ipython2",
   "version": "2.7.6"
  }
 },
 "nbformat": 4,
 "nbformat_minor": 5
}
