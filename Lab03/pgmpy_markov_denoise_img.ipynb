{
 "cells": [
  {
   "metadata": {
    "ExecuteTime": {
     "end_time": "2025-02-12T21:04:32.351159Z",
     "start_time": "2025-02-12T21:04:31.269225Z"
    }
   },
   "cell_type": "code",
   "source": [
    "import numpy as np\n",
    "from pgmpy.models import MarkovModel\n",
    "from pgmpy.factors.discrete import DiscreteFactor\n",
    "from pgmpy.inference import BeliefPropagation\n",
    "\n",
    "# a) Crearea imaginii originale\n",
    "original_image = np.array([\n",
    "    [0, 0, 0, 0, 0],\n",
    "    [0, 1, 1, 1, 0],\n",
    "    [0, 1, 0, 1, 0],\n",
    "    [0, 1, 1, 1, 0],\n",
    "    [0, 0, 0, 0, 0]\n",
    "])\n",
    "\n",
    "# b) Adăugarea zgomotului\n",
    "np.random.seed(42)\n",
    "noisy_image = original_image.copy()\n",
    "rows, cols = original_image.shape\n",
    "indices = np.random.choice(rows * cols, size=3, replace=False)\n",
    "for idx in indices:\n",
    "    row = idx // cols\n",
    "    col = idx % cols\n",
    "    noisy_image[row, col] = 1 - noisy_image[row, col]\n",
    "\n",
    "# c) Definirea MRF cu pgmpy\n",
    "model = MarkovModel()\n",
    "\n",
    "# Adăugarea nodurilor și muchiilor\n",
    "nodes = [(i, j) for i in range(5) for j in range(5)]\n",
    "model.add_nodes_from(nodes)\n",
    "\n",
    "edges = []\n",
    "for i in range(5):\n",
    "    for j in range(5):\n",
    "        if i < 4:\n",
    "            edges.append(((i, j), (i+1, j)))\n",
    "        if j < 4:\n",
    "            edges.append(((i, j), (i, j+1)))\n",
    "model.add_edges_from(edges)\n",
    "\n",
    "# Factorii pentru noduri (observații)\n",
    "lambda_val = 10.0  # Ajustat pentru a da mai multă importanță observațiilor\n",
    "for i in range(5):\n",
    "    for j in range(5):\n",
    "        y = noisy_image[i, j]\n",
    "        potential = [np.exp(-lambda_val * (0 - y)**2), np.exp(-lambda_val * (1 - y)**2)]\n",
    "        factor = DiscreteFactor([(i, j)], [2], potential)\n",
    "        model.add_factors(factor)\n",
    "\n",
    "# Factorii pentru perechi de vecini\n",
    "for edge in edges:\n",
    "    (i1, j1), (i2, j2) = edge\n",
    "    potential = [1.0, np.exp(-1), np.exp(-1), 1.0]  # (0,0), (0,1), (1,0), (1,1)\n",
    "    factor = DiscreteFactor([(i1, j1), (i2, j2)], [2, 2], potential)\n",
    "    model.add_factors(factor)\n",
    "\n",
    "model.check_model()\n",
    "\n",
    "# d) Estimarea MAP cu Belief Propagation\n",
    "bp = BeliefPropagation(model)\n",
    "map_result = bp.map_query()\n",
    "\n",
    "# Convertim rezultatul în matrice\n",
    "estimated_image = np.zeros((5, 5), dtype=int)\n",
    "for (i, j), val in map_result.items():\n",
    "    estimated_image[i, j] = val\n",
    "\n",
    "print(\"Imaginea estimată:\")\n",
    "print(estimated_image)"
   ],
   "id": "ee7bc47f53f8712b",
   "outputs": [
    {
     "name": "stderr",
     "output_type": "stream",
     "text": [
      "WARNING:pgmpy:MarkovModel has been renamed to MarkovNetwork. Please use MarkovNetwork class, MarkovModel will be removed in future.\n",
      "WARNING:pgmpy:MarkovModel has been renamed to MarkovNetwork. Please use MarkovNetwork class, MarkovModel will be removed in future.\n",
      "WARNING:pgmpy:MarkovModel has been renamed to MarkovNetwork. Please use MarkovNetwork class, MarkovModel will be removed in future.\n",
      "WARNING:pgmpy:MarkovModel has been renamed to MarkovNetwork. Please use MarkovNetwork class, MarkovModel will be removed in future.\n"
     ]
    },
    {
     "name": "stdout",
     "output_type": "stream",
     "text": [
      "Imaginea estimată:\n",
      "[[1 0 0 0 0]\n",
      " [0 1 1 0 0]\n",
      " [0 1 0 1 0]\n",
      " [0 0 1 1 0]\n",
      " [0 0 0 0 0]]\n"
     ]
    }
   ],
   "execution_count": 33
  }
 ],
 "metadata": {
  "kernelspec": {
   "display_name": "Python 3",
   "language": "python",
   "name": "python3"
  },
  "language_info": {
   "codemirror_mode": {
    "name": "ipython",
    "version": 2
   },
   "file_extension": ".py",
   "mimetype": "text/x-python",
   "name": "python",
   "nbconvert_exporter": "python",
   "pygments_lexer": "ipython2",
   "version": "2.7.6"
  }
 },
 "nbformat": 4,
 "nbformat_minor": 5
}
