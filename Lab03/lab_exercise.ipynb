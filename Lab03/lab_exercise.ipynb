{
 "cells": [
  {
   "metadata": {
    "ExecuteTime": {
     "end_time": "2024-10-15T16:59:09.175683Z",
     "start_time": "2024-10-15T16:59:09.154142Z"
    }
   },
   "cell_type": "code",
   "source": [
    "from pgmpy.models import BayesianNetwork\n",
    "from pgmpy.factors.discrete import TabularCPD\n",
    "\n",
    "model = BayesianNetwork([('S', 'O'), ('S', 'L'), ('S', 'M'), ('L', 'M')])\n",
    "cpd_B = TabularCPD(variable='S', variable_card=2, values=[[0.6], [0.4]])\n",
    "\n",
    "cpd_T = TabularCPD(variable='O', variable_card=2,\n",
    "                   values=[[0.9, 0.3],\n",
    "                           [0.1, 0.7]],\n",
    "                   evidence=['S'],\n",
    "                   evidence_card=[2])\n",
    "\n",
    "cpd_X = TabularCPD(variable='L', variable_card=2,\n",
    "                   values=[[0.7, 0.2],\n",
    "                           [0.3, 0.8]],\n",
    "                   evidence=['S'],\n",
    "                   evidence_card=[2])\n",
    "\n",
    "cpd_D = TabularCPD(variable='M', variable_card=2,\n",
    "                   values=[[0.2, 0.4, 0.5, 0.9],\n",
    "                           [0.8, 0.6, 0.5, 0.1]],\n",
    "                   evidence=['S', 'L'],\n",
    "                   evidence_card=[2, 2])\n",
    "\n",
    "model.add_cpds(cpd_B, cpd_T, cpd_X, cpd_D)\n",
    "print(model.check_model())"
   ],
   "id": "a970485ff2788f52",
   "outputs": [
    {
     "name": "stdout",
     "output_type": "stream",
     "text": [
      "True\n"
     ]
    }
   ],
   "execution_count": 16
  },
  {
   "metadata": {
    "ExecuteTime": {
     "end_time": "2024-10-15T17:03:25.596792Z",
     "start_time": "2024-10-15T17:03:25.580614Z"
    }
   },
   "cell_type": "code",
   "source": "model.local_independencies(['S','O','L','M'])",
   "id": "1a414b2035b8da1e",
   "outputs": [
    {
     "data": {
      "text/plain": [
       "(O ⟂ L, M | S)\n",
       "(L ⟂ O | S)\n",
       "(M ⟂ O | S, L)"
      ]
     },
     "execution_count": 17,
     "metadata": {},
     "output_type": "execute_result"
    }
   ],
   "execution_count": 17
  }
 ],
 "metadata": {
  "kernelspec": {
   "display_name": "Python 3",
   "language": "python",
   "name": "python3"
  },
  "language_info": {
   "codemirror_mode": {
    "name": "ipython",
    "version": 2
   },
   "file_extension": ".py",
   "mimetype": "text/x-python",
   "name": "python",
   "nbconvert_exporter": "python",
   "pygments_lexer": "ipython2",
   "version": "2.7.6"
  }
 },
 "nbformat": 4,
 "nbformat_minor": 5
}
